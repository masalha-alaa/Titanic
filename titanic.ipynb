{
 "cells": [
  {
   "cell_type": "code",
   "execution_count": 1,
   "metadata": {
    "execution": {
     "iopub.execute_input": "2021-02-13T11:39:09.372152Z",
     "iopub.status.busy": "2021-02-13T11:39:09.371304Z",
     "iopub.status.idle": "2021-02-13T11:39:11.039986Z",
     "shell.execute_reply": "2021-02-13T11:39:11.039165Z"
    },
    "papermill": {
     "duration": 1.710065,
     "end_time": "2021-02-13T11:39:11.040211",
     "exception": false,
     "start_time": "2021-02-13T11:39:09.330146",
     "status": "completed"
    },
    "tags": []
   },
   "outputs": [],
   "source": [
    "import os\n",
    "import numpy as np\n",
    "import pandas as pd\n",
    "import matplotlib.pyplot as plt\n",
    "import seaborn as sns\n",
    "from sklearn.impute import KNNImputer\n",
    "from sklearn.ensemble import RandomForestClassifier\n",
    "from sklearn.neighbors import KNeighborsClassifier\n",
    "from sklearn.svm import SVC\n",
    "from sklearn.model_selection import cross_val_score\n",
    "from sklearn.ensemble import VotingClassifier\n",
    "from sklearn.model_selection import GridSearchCV\n",
    "\n",
    "\n",
    "\n",
    "%matplotlib inline\n",
    "\n",
    "sns.set(rc={'figure.figsize':(20, 6)})"
   ]
  },
  {
   "cell_type": "code",
   "execution_count": 2,
   "metadata": {
    "execution": {
     "iopub.execute_input": "2021-02-13T11:39:11.117440Z",
     "iopub.status.busy": "2021-02-13T11:39:11.116375Z",
     "iopub.status.idle": "2021-02-13T11:39:11.120180Z",
     "shell.execute_reply": "2021-02-13T11:39:11.120650Z"
    },
    "papermill": {
     "duration": 0.045192,
     "end_time": "2021-02-13T11:39:11.120832",
     "exception": false,
     "start_time": "2021-02-13T11:39:11.075640",
     "status": "completed"
    },
    "tags": []
   },
   "outputs": [],
   "source": [
    "def get_title_from_name(name):\n",
    "    \"\"\"\n",
    "    Returns title (e.g. 'mr') from full name\n",
    "    \"\"\"\n",
    "    return name.split(',')[1].split('.')[0].strip()\n",
    "\n",
    "\n",
    "def compact_title(row):\n",
    "    \"\"\"\n",
    "    Converts any title to: mr / mrs / ms / master / other\n",
    "    \"\"\"\n",
    "    title = row[TITLE].lower()\n",
    "    gender = row[GENDER].lower()\n",
    "    if title in ['don', 'rev', 'major', 'sir', 'col', 'capt', 'jonkheer', 'mr']:\n",
    "        return 'mr'\n",
    "    if title in ['mme', 'the countess', 'lady', 'mrs', 'dona']:\n",
    "        return 'mrs'\n",
    "    if title in ['miss', 'mlle', 'ms']:\n",
    "        return 'ms'\n",
    "    if title == 'dr':\n",
    "        if gender == 'male':\n",
    "            return 'mr'\n",
    "        else:\n",
    "            return 'mrs'\n",
    "    if title == 'master':\n",
    "        return 'master'\n",
    "    return 'Other'\n",
    "\n",
    "\n",
    "def extract_cabin_letter(cabin):\n",
    "    \"\"\"\n",
    "    Extracts cabin letter (deck) from full cabin name\n",
    "    \"\"\"\n",
    "    return 'Unknown' if pd.isnull(cabin) else cabin[0]\n",
    "\n",
    "def draw_hist(series):\n",
    "    \"\"\"\n",
    "    Draw histogram from given series\n",
    "    \"\"\"\n",
    "    plt.hist(series)\n",
    "    plt.title(series.name)\n",
    "    plt.show()"
   ]
  },
  {
   "cell_type": "code",
   "execution_count": 3,
   "metadata": {
    "_cell_guid": "b1076dfc-b9ad-4769-8c92-a6c4dae69d19",
    "_uuid": "8f2839f25d086af736a60e9eeb907d3b93b6e0e5",
    "execution": {
     "iopub.execute_input": "2021-02-13T11:39:11.189483Z",
     "iopub.status.busy": "2021-02-13T11:39:11.188182Z",
     "iopub.status.idle": "2021-02-13T11:39:11.203484Z",
     "shell.execute_reply": "2021-02-13T11:39:11.203968Z"
    },
    "papermill": {
     "duration": 0.050822,
     "end_time": "2021-02-13T11:39:11.204157",
     "exception": false,
     "start_time": "2021-02-13T11:39:11.153335",
     "status": "completed"
    },
    "tags": []
   },
   "outputs": [
    {
     "name": "stdout",
     "output_type": "stream",
     "text": [
      "/kaggle/input/titanic/train.csv\n",
      "/kaggle/input/titanic/test.csv\n",
      "/kaggle/input/titanic/gender_submission.csv\n"
     ]
    }
   ],
   "source": [
    "for dirname, _, filenames in os.walk('/kaggle/input'):\n",
    "    for filename in filenames:\n",
    "        print(os.path.join(dirname, filename))\n",
    "\n",
    "# You can write up to 20GB to the current directory (/kaggle/working/) that gets preserved as output when you create a version using \"Save & Run All\" \n",
    "# You can also write temporary files to /kaggle/temp/, but they won't be saved outside of the current session"
   ]
  },
  {
   "cell_type": "code",
   "execution_count": 4,
   "metadata": {
    "execution": {
     "iopub.execute_input": "2021-02-13T11:39:11.272854Z",
     "iopub.status.busy": "2021-02-13T11:39:11.271821Z",
     "iopub.status.idle": "2021-02-13T11:39:11.335309Z",
     "shell.execute_reply": "2021-02-13T11:39:11.334614Z"
    },
    "papermill": {
     "duration": 0.099063,
     "end_time": "2021-02-13T11:39:11.335460",
     "exception": false,
     "start_time": "2021-02-13T11:39:11.236397",
     "status": "completed"
    },
    "tags": []
   },
   "outputs": [
    {
     "name": "stdout",
     "output_type": "stream",
     "text": [
      "Training size: 891\n"
     ]
    },
    {
     "data": {
      "text/html": [
       "<div>\n",
       "<style scoped>\n",
       "    .dataframe tbody tr th:only-of-type {\n",
       "        vertical-align: middle;\n",
       "    }\n",
       "\n",
       "    .dataframe tbody tr th {\n",
       "        vertical-align: top;\n",
       "    }\n",
       "\n",
       "    .dataframe thead th {\n",
       "        text-align: right;\n",
       "    }\n",
       "</style>\n",
       "<table border=\"1\" class=\"dataframe\">\n",
       "  <thead>\n",
       "    <tr style=\"text-align: right;\">\n",
       "      <th></th>\n",
       "      <th>PassengerId</th>\n",
       "      <th>Survived</th>\n",
       "      <th>Pclass</th>\n",
       "      <th>Name</th>\n",
       "      <th>Sex</th>\n",
       "      <th>Age</th>\n",
       "      <th>SibSp</th>\n",
       "      <th>Parch</th>\n",
       "      <th>Ticket</th>\n",
       "      <th>Fare</th>\n",
       "      <th>Cabin</th>\n",
       "      <th>Embarked</th>\n",
       "    </tr>\n",
       "  </thead>\n",
       "  <tbody>\n",
       "    <tr>\n",
       "      <th>0</th>\n",
       "      <td>1</td>\n",
       "      <td>0</td>\n",
       "      <td>3</td>\n",
       "      <td>Braund, Mr. Owen Harris</td>\n",
       "      <td>male</td>\n",
       "      <td>22.0</td>\n",
       "      <td>1</td>\n",
       "      <td>0</td>\n",
       "      <td>A/5 21171</td>\n",
       "      <td>7.2500</td>\n",
       "      <td>NaN</td>\n",
       "      <td>S</td>\n",
       "    </tr>\n",
       "    <tr>\n",
       "      <th>1</th>\n",
       "      <td>2</td>\n",
       "      <td>1</td>\n",
       "      <td>1</td>\n",
       "      <td>Cumings, Mrs. John Bradley (Florence Briggs Th...</td>\n",
       "      <td>female</td>\n",
       "      <td>38.0</td>\n",
       "      <td>1</td>\n",
       "      <td>0</td>\n",
       "      <td>PC 17599</td>\n",
       "      <td>71.2833</td>\n",
       "      <td>C85</td>\n",
       "      <td>C</td>\n",
       "    </tr>\n",
       "    <tr>\n",
       "      <th>2</th>\n",
       "      <td>3</td>\n",
       "      <td>1</td>\n",
       "      <td>3</td>\n",
       "      <td>Heikkinen, Miss. Laina</td>\n",
       "      <td>female</td>\n",
       "      <td>26.0</td>\n",
       "      <td>0</td>\n",
       "      <td>0</td>\n",
       "      <td>STON/O2. 3101282</td>\n",
       "      <td>7.9250</td>\n",
       "      <td>NaN</td>\n",
       "      <td>S</td>\n",
       "    </tr>\n",
       "    <tr>\n",
       "      <th>3</th>\n",
       "      <td>4</td>\n",
       "      <td>1</td>\n",
       "      <td>1</td>\n",
       "      <td>Futrelle, Mrs. Jacques Heath (Lily May Peel)</td>\n",
       "      <td>female</td>\n",
       "      <td>35.0</td>\n",
       "      <td>1</td>\n",
       "      <td>0</td>\n",
       "      <td>113803</td>\n",
       "      <td>53.1000</td>\n",
       "      <td>C123</td>\n",
       "      <td>S</td>\n",
       "    </tr>\n",
       "    <tr>\n",
       "      <th>4</th>\n",
       "      <td>5</td>\n",
       "      <td>0</td>\n",
       "      <td>3</td>\n",
       "      <td>Allen, Mr. William Henry</td>\n",
       "      <td>male</td>\n",
       "      <td>35.0</td>\n",
       "      <td>0</td>\n",
       "      <td>0</td>\n",
       "      <td>373450</td>\n",
       "      <td>8.0500</td>\n",
       "      <td>NaN</td>\n",
       "      <td>S</td>\n",
       "    </tr>\n",
       "  </tbody>\n",
       "</table>\n",
       "</div>"
      ],
      "text/plain": [
       "   PassengerId  Survived  Pclass  \\\n",
       "0            1         0       3   \n",
       "1            2         1       1   \n",
       "2            3         1       3   \n",
       "3            4         1       1   \n",
       "4            5         0       3   \n",
       "\n",
       "                                                Name     Sex   Age  SibSp  \\\n",
       "0                            Braund, Mr. Owen Harris    male  22.0      1   \n",
       "1  Cumings, Mrs. John Bradley (Florence Briggs Th...  female  38.0      1   \n",
       "2                             Heikkinen, Miss. Laina  female  26.0      0   \n",
       "3       Futrelle, Mrs. Jacques Heath (Lily May Peel)  female  35.0      1   \n",
       "4                           Allen, Mr. William Henry    male  35.0      0   \n",
       "\n",
       "   Parch            Ticket     Fare Cabin Embarked  \n",
       "0      0         A/5 21171   7.2500   NaN        S  \n",
       "1      0          PC 17599  71.2833   C85        C  \n",
       "2      0  STON/O2. 3101282   7.9250   NaN        S  \n",
       "3      0            113803  53.1000  C123        S  \n",
       "4      0            373450   8.0500   NaN        S  "
      ]
     },
     "execution_count": 4,
     "metadata": {},
     "output_type": "execute_result"
    }
   ],
   "source": [
    "# load the training data\n",
    "training = pd.read_csv('/kaggle/input/titanic/train.csv')\n",
    "print(f'Training size: {training.shape[0]}')\n",
    "training.head()"
   ]
  },
  {
   "cell_type": "code",
   "execution_count": 5,
   "metadata": {
    "execution": {
     "iopub.execute_input": "2021-02-13T11:39:11.407221Z",
     "iopub.status.busy": "2021-02-13T11:39:11.406455Z",
     "iopub.status.idle": "2021-02-13T11:39:11.438114Z",
     "shell.execute_reply": "2021-02-13T11:39:11.437427Z"
    },
    "papermill": {
     "duration": 0.070597,
     "end_time": "2021-02-13T11:39:11.438264",
     "exception": false,
     "start_time": "2021-02-13T11:39:11.367667",
     "status": "completed"
    },
    "tags": []
   },
   "outputs": [
    {
     "name": "stdout",
     "output_type": "stream",
     "text": [
      "Test size: 418\n"
     ]
    },
    {
     "data": {
      "text/html": [
       "<div>\n",
       "<style scoped>\n",
       "    .dataframe tbody tr th:only-of-type {\n",
       "        vertical-align: middle;\n",
       "    }\n",
       "\n",
       "    .dataframe tbody tr th {\n",
       "        vertical-align: top;\n",
       "    }\n",
       "\n",
       "    .dataframe thead th {\n",
       "        text-align: right;\n",
       "    }\n",
       "</style>\n",
       "<table border=\"1\" class=\"dataframe\">\n",
       "  <thead>\n",
       "    <tr style=\"text-align: right;\">\n",
       "      <th></th>\n",
       "      <th>PassengerId</th>\n",
       "      <th>Pclass</th>\n",
       "      <th>Name</th>\n",
       "      <th>Sex</th>\n",
       "      <th>Age</th>\n",
       "      <th>SibSp</th>\n",
       "      <th>Parch</th>\n",
       "      <th>Ticket</th>\n",
       "      <th>Fare</th>\n",
       "      <th>Cabin</th>\n",
       "      <th>Embarked</th>\n",
       "    </tr>\n",
       "  </thead>\n",
       "  <tbody>\n",
       "    <tr>\n",
       "      <th>0</th>\n",
       "      <td>892</td>\n",
       "      <td>3</td>\n",
       "      <td>Kelly, Mr. James</td>\n",
       "      <td>male</td>\n",
       "      <td>34.5</td>\n",
       "      <td>0</td>\n",
       "      <td>0</td>\n",
       "      <td>330911</td>\n",
       "      <td>7.8292</td>\n",
       "      <td>NaN</td>\n",
       "      <td>Q</td>\n",
       "    </tr>\n",
       "    <tr>\n",
       "      <th>1</th>\n",
       "      <td>893</td>\n",
       "      <td>3</td>\n",
       "      <td>Wilkes, Mrs. James (Ellen Needs)</td>\n",
       "      <td>female</td>\n",
       "      <td>47.0</td>\n",
       "      <td>1</td>\n",
       "      <td>0</td>\n",
       "      <td>363272</td>\n",
       "      <td>7.0000</td>\n",
       "      <td>NaN</td>\n",
       "      <td>S</td>\n",
       "    </tr>\n",
       "    <tr>\n",
       "      <th>2</th>\n",
       "      <td>894</td>\n",
       "      <td>2</td>\n",
       "      <td>Myles, Mr. Thomas Francis</td>\n",
       "      <td>male</td>\n",
       "      <td>62.0</td>\n",
       "      <td>0</td>\n",
       "      <td>0</td>\n",
       "      <td>240276</td>\n",
       "      <td>9.6875</td>\n",
       "      <td>NaN</td>\n",
       "      <td>Q</td>\n",
       "    </tr>\n",
       "    <tr>\n",
       "      <th>3</th>\n",
       "      <td>895</td>\n",
       "      <td>3</td>\n",
       "      <td>Wirz, Mr. Albert</td>\n",
       "      <td>male</td>\n",
       "      <td>27.0</td>\n",
       "      <td>0</td>\n",
       "      <td>0</td>\n",
       "      <td>315154</td>\n",
       "      <td>8.6625</td>\n",
       "      <td>NaN</td>\n",
       "      <td>S</td>\n",
       "    </tr>\n",
       "    <tr>\n",
       "      <th>4</th>\n",
       "      <td>896</td>\n",
       "      <td>3</td>\n",
       "      <td>Hirvonen, Mrs. Alexander (Helga E Lindqvist)</td>\n",
       "      <td>female</td>\n",
       "      <td>22.0</td>\n",
       "      <td>1</td>\n",
       "      <td>1</td>\n",
       "      <td>3101298</td>\n",
       "      <td>12.2875</td>\n",
       "      <td>NaN</td>\n",
       "      <td>S</td>\n",
       "    </tr>\n",
       "  </tbody>\n",
       "</table>\n",
       "</div>"
      ],
      "text/plain": [
       "   PassengerId  Pclass                                          Name     Sex  \\\n",
       "0          892       3                              Kelly, Mr. James    male   \n",
       "1          893       3              Wilkes, Mrs. James (Ellen Needs)  female   \n",
       "2          894       2                     Myles, Mr. Thomas Francis    male   \n",
       "3          895       3                              Wirz, Mr. Albert    male   \n",
       "4          896       3  Hirvonen, Mrs. Alexander (Helga E Lindqvist)  female   \n",
       "\n",
       "    Age  SibSp  Parch   Ticket     Fare Cabin Embarked  \n",
       "0  34.5      0      0   330911   7.8292   NaN        Q  \n",
       "1  47.0      1      0   363272   7.0000   NaN        S  \n",
       "2  62.0      0      0   240276   9.6875   NaN        Q  \n",
       "3  27.0      0      0   315154   8.6625   NaN        S  \n",
       "4  22.0      1      1  3101298  12.2875   NaN        S  "
      ]
     },
     "execution_count": 5,
     "metadata": {},
     "output_type": "execute_result"
    }
   ],
   "source": [
    "# load the test data\n",
    "test = pd.read_csv('/kaggle/input/titanic/test.csv')\n",
    "print(f'Test size: {test.shape[0]}')\n",
    "test.head()"
   ]
  },
  {
   "cell_type": "code",
   "execution_count": 6,
   "metadata": {
    "execution": {
     "iopub.execute_input": "2021-02-13T11:39:11.512121Z",
     "iopub.status.busy": "2021-02-13T11:39:11.510895Z",
     "iopub.status.idle": "2021-02-13T11:39:11.589110Z",
     "shell.execute_reply": "2021-02-13T11:39:11.588481Z"
    },
    "papermill": {
     "duration": 0.117734,
     "end_time": "2021-02-13T11:39:11.589260",
     "exception": false,
     "start_time": "2021-02-13T11:39:11.471526",
     "status": "completed"
    },
    "tags": []
   },
   "outputs": [
    {
     "data": {
      "text/html": [
       "<div>\n",
       "<style scoped>\n",
       "    .dataframe tbody tr th:only-of-type {\n",
       "        vertical-align: middle;\n",
       "    }\n",
       "\n",
       "    .dataframe tbody tr th {\n",
       "        vertical-align: top;\n",
       "    }\n",
       "\n",
       "    .dataframe thead th {\n",
       "        text-align: right;\n",
       "    }\n",
       "</style>\n",
       "<table border=\"1\" class=\"dataframe\">\n",
       "  <thead>\n",
       "    <tr style=\"text-align: right;\">\n",
       "      <th></th>\n",
       "      <th>PassengerId</th>\n",
       "      <th>Survived</th>\n",
       "      <th>Pclass</th>\n",
       "      <th>Name</th>\n",
       "      <th>Sex</th>\n",
       "      <th>Age</th>\n",
       "      <th>SibSp</th>\n",
       "      <th>Parch</th>\n",
       "      <th>Ticket</th>\n",
       "      <th>Fare</th>\n",
       "      <th>Cabin</th>\n",
       "      <th>Embarked</th>\n",
       "    </tr>\n",
       "  </thead>\n",
       "  <tbody>\n",
       "    <tr>\n",
       "      <th>count</th>\n",
       "      <td>891.000000</td>\n",
       "      <td>891.000000</td>\n",
       "      <td>891.000000</td>\n",
       "      <td>891</td>\n",
       "      <td>891</td>\n",
       "      <td>714.000000</td>\n",
       "      <td>891.000000</td>\n",
       "      <td>891.000000</td>\n",
       "      <td>891</td>\n",
       "      <td>891.000000</td>\n",
       "      <td>204</td>\n",
       "      <td>889</td>\n",
       "    </tr>\n",
       "    <tr>\n",
       "      <th>unique</th>\n",
       "      <td>NaN</td>\n",
       "      <td>NaN</td>\n",
       "      <td>NaN</td>\n",
       "      <td>891</td>\n",
       "      <td>2</td>\n",
       "      <td>NaN</td>\n",
       "      <td>NaN</td>\n",
       "      <td>NaN</td>\n",
       "      <td>681</td>\n",
       "      <td>NaN</td>\n",
       "      <td>147</td>\n",
       "      <td>3</td>\n",
       "    </tr>\n",
       "    <tr>\n",
       "      <th>top</th>\n",
       "      <td>NaN</td>\n",
       "      <td>NaN</td>\n",
       "      <td>NaN</td>\n",
       "      <td>Coleff, Mr. Peju</td>\n",
       "      <td>male</td>\n",
       "      <td>NaN</td>\n",
       "      <td>NaN</td>\n",
       "      <td>NaN</td>\n",
       "      <td>1601</td>\n",
       "      <td>NaN</td>\n",
       "      <td>G6</td>\n",
       "      <td>S</td>\n",
       "    </tr>\n",
       "    <tr>\n",
       "      <th>freq</th>\n",
       "      <td>NaN</td>\n",
       "      <td>NaN</td>\n",
       "      <td>NaN</td>\n",
       "      <td>1</td>\n",
       "      <td>577</td>\n",
       "      <td>NaN</td>\n",
       "      <td>NaN</td>\n",
       "      <td>NaN</td>\n",
       "      <td>7</td>\n",
       "      <td>NaN</td>\n",
       "      <td>4</td>\n",
       "      <td>644</td>\n",
       "    </tr>\n",
       "    <tr>\n",
       "      <th>mean</th>\n",
       "      <td>446.000000</td>\n",
       "      <td>0.383838</td>\n",
       "      <td>2.308642</td>\n",
       "      <td>NaN</td>\n",
       "      <td>NaN</td>\n",
       "      <td>29.699118</td>\n",
       "      <td>0.523008</td>\n",
       "      <td>0.381594</td>\n",
       "      <td>NaN</td>\n",
       "      <td>32.204208</td>\n",
       "      <td>NaN</td>\n",
       "      <td>NaN</td>\n",
       "    </tr>\n",
       "    <tr>\n",
       "      <th>std</th>\n",
       "      <td>257.353842</td>\n",
       "      <td>0.486592</td>\n",
       "      <td>0.836071</td>\n",
       "      <td>NaN</td>\n",
       "      <td>NaN</td>\n",
       "      <td>14.526497</td>\n",
       "      <td>1.102743</td>\n",
       "      <td>0.806057</td>\n",
       "      <td>NaN</td>\n",
       "      <td>49.693429</td>\n",
       "      <td>NaN</td>\n",
       "      <td>NaN</td>\n",
       "    </tr>\n",
       "    <tr>\n",
       "      <th>min</th>\n",
       "      <td>1.000000</td>\n",
       "      <td>0.000000</td>\n",
       "      <td>1.000000</td>\n",
       "      <td>NaN</td>\n",
       "      <td>NaN</td>\n",
       "      <td>0.420000</td>\n",
       "      <td>0.000000</td>\n",
       "      <td>0.000000</td>\n",
       "      <td>NaN</td>\n",
       "      <td>0.000000</td>\n",
       "      <td>NaN</td>\n",
       "      <td>NaN</td>\n",
       "    </tr>\n",
       "    <tr>\n",
       "      <th>25%</th>\n",
       "      <td>223.500000</td>\n",
       "      <td>0.000000</td>\n",
       "      <td>2.000000</td>\n",
       "      <td>NaN</td>\n",
       "      <td>NaN</td>\n",
       "      <td>20.125000</td>\n",
       "      <td>0.000000</td>\n",
       "      <td>0.000000</td>\n",
       "      <td>NaN</td>\n",
       "      <td>7.910400</td>\n",
       "      <td>NaN</td>\n",
       "      <td>NaN</td>\n",
       "    </tr>\n",
       "    <tr>\n",
       "      <th>50%</th>\n",
       "      <td>446.000000</td>\n",
       "      <td>0.000000</td>\n",
       "      <td>3.000000</td>\n",
       "      <td>NaN</td>\n",
       "      <td>NaN</td>\n",
       "      <td>28.000000</td>\n",
       "      <td>0.000000</td>\n",
       "      <td>0.000000</td>\n",
       "      <td>NaN</td>\n",
       "      <td>14.454200</td>\n",
       "      <td>NaN</td>\n",
       "      <td>NaN</td>\n",
       "    </tr>\n",
       "    <tr>\n",
       "      <th>75%</th>\n",
       "      <td>668.500000</td>\n",
       "      <td>1.000000</td>\n",
       "      <td>3.000000</td>\n",
       "      <td>NaN</td>\n",
       "      <td>NaN</td>\n",
       "      <td>38.000000</td>\n",
       "      <td>1.000000</td>\n",
       "      <td>0.000000</td>\n",
       "      <td>NaN</td>\n",
       "      <td>31.000000</td>\n",
       "      <td>NaN</td>\n",
       "      <td>NaN</td>\n",
       "    </tr>\n",
       "    <tr>\n",
       "      <th>max</th>\n",
       "      <td>891.000000</td>\n",
       "      <td>1.000000</td>\n",
       "      <td>3.000000</td>\n",
       "      <td>NaN</td>\n",
       "      <td>NaN</td>\n",
       "      <td>80.000000</td>\n",
       "      <td>8.000000</td>\n",
       "      <td>6.000000</td>\n",
       "      <td>NaN</td>\n",
       "      <td>512.329200</td>\n",
       "      <td>NaN</td>\n",
       "      <td>NaN</td>\n",
       "    </tr>\n",
       "  </tbody>\n",
       "</table>\n",
       "</div>"
      ],
      "text/plain": [
       "        PassengerId    Survived      Pclass              Name   Sex  \\\n",
       "count    891.000000  891.000000  891.000000               891   891   \n",
       "unique          NaN         NaN         NaN               891     2   \n",
       "top             NaN         NaN         NaN  Coleff, Mr. Peju  male   \n",
       "freq            NaN         NaN         NaN                 1   577   \n",
       "mean     446.000000    0.383838    2.308642               NaN   NaN   \n",
       "std      257.353842    0.486592    0.836071               NaN   NaN   \n",
       "min        1.000000    0.000000    1.000000               NaN   NaN   \n",
       "25%      223.500000    0.000000    2.000000               NaN   NaN   \n",
       "50%      446.000000    0.000000    3.000000               NaN   NaN   \n",
       "75%      668.500000    1.000000    3.000000               NaN   NaN   \n",
       "max      891.000000    1.000000    3.000000               NaN   NaN   \n",
       "\n",
       "               Age       SibSp       Parch Ticket        Fare Cabin Embarked  \n",
       "count   714.000000  891.000000  891.000000    891  891.000000   204      889  \n",
       "unique         NaN         NaN         NaN    681         NaN   147        3  \n",
       "top            NaN         NaN         NaN   1601         NaN    G6        S  \n",
       "freq           NaN         NaN         NaN      7         NaN     4      644  \n",
       "mean     29.699118    0.523008    0.381594    NaN   32.204208   NaN      NaN  \n",
       "std      14.526497    1.102743    0.806057    NaN   49.693429   NaN      NaN  \n",
       "min       0.420000    0.000000    0.000000    NaN    0.000000   NaN      NaN  \n",
       "25%      20.125000    0.000000    0.000000    NaN    7.910400   NaN      NaN  \n",
       "50%      28.000000    0.000000    0.000000    NaN   14.454200   NaN      NaN  \n",
       "75%      38.000000    1.000000    0.000000    NaN   31.000000   NaN      NaN  \n",
       "max      80.000000    8.000000    6.000000    NaN  512.329200   NaN      NaN  "
      ]
     },
     "execution_count": 6,
     "metadata": {},
     "output_type": "execute_result"
    }
   ],
   "source": [
    "training.describe(include='all')"
   ]
  },
  {
   "cell_type": "code",
   "execution_count": 7,
   "metadata": {
    "execution": {
     "iopub.execute_input": "2021-02-13T11:39:11.668523Z",
     "iopub.status.busy": "2021-02-13T11:39:11.666387Z",
     "iopub.status.idle": "2021-02-13T11:39:11.715244Z",
     "shell.execute_reply": "2021-02-13T11:39:11.714466Z"
    },
    "papermill": {
     "duration": 0.092552,
     "end_time": "2021-02-13T11:39:11.715400",
     "exception": false,
     "start_time": "2021-02-13T11:39:11.622848",
     "status": "completed"
    },
    "tags": []
   },
   "outputs": [
    {
     "data": {
      "text/html": [
       "<div>\n",
       "<style scoped>\n",
       "    .dataframe tbody tr th:only-of-type {\n",
       "        vertical-align: middle;\n",
       "    }\n",
       "\n",
       "    .dataframe tbody tr th {\n",
       "        vertical-align: top;\n",
       "    }\n",
       "\n",
       "    .dataframe thead th {\n",
       "        text-align: right;\n",
       "    }\n",
       "</style>\n",
       "<table border=\"1\" class=\"dataframe\">\n",
       "  <thead>\n",
       "    <tr style=\"text-align: right;\">\n",
       "      <th></th>\n",
       "      <th>PassengerId</th>\n",
       "      <th>Pclass</th>\n",
       "      <th>Name</th>\n",
       "      <th>Sex</th>\n",
       "      <th>Age</th>\n",
       "      <th>SibSp</th>\n",
       "      <th>Parch</th>\n",
       "      <th>Ticket</th>\n",
       "      <th>Fare</th>\n",
       "      <th>Cabin</th>\n",
       "      <th>Embarked</th>\n",
       "    </tr>\n",
       "  </thead>\n",
       "  <tbody>\n",
       "    <tr>\n",
       "      <th>count</th>\n",
       "      <td>418.000000</td>\n",
       "      <td>418.000000</td>\n",
       "      <td>418</td>\n",
       "      <td>418</td>\n",
       "      <td>332.000000</td>\n",
       "      <td>418.000000</td>\n",
       "      <td>418.000000</td>\n",
       "      <td>418</td>\n",
       "      <td>417.000000</td>\n",
       "      <td>91</td>\n",
       "      <td>418</td>\n",
       "    </tr>\n",
       "    <tr>\n",
       "      <th>unique</th>\n",
       "      <td>NaN</td>\n",
       "      <td>NaN</td>\n",
       "      <td>418</td>\n",
       "      <td>2</td>\n",
       "      <td>NaN</td>\n",
       "      <td>NaN</td>\n",
       "      <td>NaN</td>\n",
       "      <td>363</td>\n",
       "      <td>NaN</td>\n",
       "      <td>76</td>\n",
       "      <td>3</td>\n",
       "    </tr>\n",
       "    <tr>\n",
       "      <th>top</th>\n",
       "      <td>NaN</td>\n",
       "      <td>NaN</td>\n",
       "      <td>Becker, Miss. Ruth Elizabeth</td>\n",
       "      <td>male</td>\n",
       "      <td>NaN</td>\n",
       "      <td>NaN</td>\n",
       "      <td>NaN</td>\n",
       "      <td>PC 17608</td>\n",
       "      <td>NaN</td>\n",
       "      <td>B57 B59 B63 B66</td>\n",
       "      <td>S</td>\n",
       "    </tr>\n",
       "    <tr>\n",
       "      <th>freq</th>\n",
       "      <td>NaN</td>\n",
       "      <td>NaN</td>\n",
       "      <td>1</td>\n",
       "      <td>266</td>\n",
       "      <td>NaN</td>\n",
       "      <td>NaN</td>\n",
       "      <td>NaN</td>\n",
       "      <td>5</td>\n",
       "      <td>NaN</td>\n",
       "      <td>3</td>\n",
       "      <td>270</td>\n",
       "    </tr>\n",
       "    <tr>\n",
       "      <th>mean</th>\n",
       "      <td>1100.500000</td>\n",
       "      <td>2.265550</td>\n",
       "      <td>NaN</td>\n",
       "      <td>NaN</td>\n",
       "      <td>30.272590</td>\n",
       "      <td>0.447368</td>\n",
       "      <td>0.392344</td>\n",
       "      <td>NaN</td>\n",
       "      <td>35.627188</td>\n",
       "      <td>NaN</td>\n",
       "      <td>NaN</td>\n",
       "    </tr>\n",
       "    <tr>\n",
       "      <th>std</th>\n",
       "      <td>120.810458</td>\n",
       "      <td>0.841838</td>\n",
       "      <td>NaN</td>\n",
       "      <td>NaN</td>\n",
       "      <td>14.181209</td>\n",
       "      <td>0.896760</td>\n",
       "      <td>0.981429</td>\n",
       "      <td>NaN</td>\n",
       "      <td>55.907576</td>\n",
       "      <td>NaN</td>\n",
       "      <td>NaN</td>\n",
       "    </tr>\n",
       "    <tr>\n",
       "      <th>min</th>\n",
       "      <td>892.000000</td>\n",
       "      <td>1.000000</td>\n",
       "      <td>NaN</td>\n",
       "      <td>NaN</td>\n",
       "      <td>0.170000</td>\n",
       "      <td>0.000000</td>\n",
       "      <td>0.000000</td>\n",
       "      <td>NaN</td>\n",
       "      <td>0.000000</td>\n",
       "      <td>NaN</td>\n",
       "      <td>NaN</td>\n",
       "    </tr>\n",
       "    <tr>\n",
       "      <th>25%</th>\n",
       "      <td>996.250000</td>\n",
       "      <td>1.000000</td>\n",
       "      <td>NaN</td>\n",
       "      <td>NaN</td>\n",
       "      <td>21.000000</td>\n",
       "      <td>0.000000</td>\n",
       "      <td>0.000000</td>\n",
       "      <td>NaN</td>\n",
       "      <td>7.895800</td>\n",
       "      <td>NaN</td>\n",
       "      <td>NaN</td>\n",
       "    </tr>\n",
       "    <tr>\n",
       "      <th>50%</th>\n",
       "      <td>1100.500000</td>\n",
       "      <td>3.000000</td>\n",
       "      <td>NaN</td>\n",
       "      <td>NaN</td>\n",
       "      <td>27.000000</td>\n",
       "      <td>0.000000</td>\n",
       "      <td>0.000000</td>\n",
       "      <td>NaN</td>\n",
       "      <td>14.454200</td>\n",
       "      <td>NaN</td>\n",
       "      <td>NaN</td>\n",
       "    </tr>\n",
       "    <tr>\n",
       "      <th>75%</th>\n",
       "      <td>1204.750000</td>\n",
       "      <td>3.000000</td>\n",
       "      <td>NaN</td>\n",
       "      <td>NaN</td>\n",
       "      <td>39.000000</td>\n",
       "      <td>1.000000</td>\n",
       "      <td>0.000000</td>\n",
       "      <td>NaN</td>\n",
       "      <td>31.500000</td>\n",
       "      <td>NaN</td>\n",
       "      <td>NaN</td>\n",
       "    </tr>\n",
       "    <tr>\n",
       "      <th>max</th>\n",
       "      <td>1309.000000</td>\n",
       "      <td>3.000000</td>\n",
       "      <td>NaN</td>\n",
       "      <td>NaN</td>\n",
       "      <td>76.000000</td>\n",
       "      <td>8.000000</td>\n",
       "      <td>9.000000</td>\n",
       "      <td>NaN</td>\n",
       "      <td>512.329200</td>\n",
       "      <td>NaN</td>\n",
       "      <td>NaN</td>\n",
       "    </tr>\n",
       "  </tbody>\n",
       "</table>\n",
       "</div>"
      ],
      "text/plain": [
       "        PassengerId      Pclass                          Name   Sex  \\\n",
       "count    418.000000  418.000000                           418   418   \n",
       "unique          NaN         NaN                           418     2   \n",
       "top             NaN         NaN  Becker, Miss. Ruth Elizabeth  male   \n",
       "freq            NaN         NaN                             1   266   \n",
       "mean    1100.500000    2.265550                           NaN   NaN   \n",
       "std      120.810458    0.841838                           NaN   NaN   \n",
       "min      892.000000    1.000000                           NaN   NaN   \n",
       "25%      996.250000    1.000000                           NaN   NaN   \n",
       "50%     1100.500000    3.000000                           NaN   NaN   \n",
       "75%     1204.750000    3.000000                           NaN   NaN   \n",
       "max     1309.000000    3.000000                           NaN   NaN   \n",
       "\n",
       "               Age       SibSp       Parch    Ticket        Fare  \\\n",
       "count   332.000000  418.000000  418.000000       418  417.000000   \n",
       "unique         NaN         NaN         NaN       363         NaN   \n",
       "top            NaN         NaN         NaN  PC 17608         NaN   \n",
       "freq           NaN         NaN         NaN         5         NaN   \n",
       "mean     30.272590    0.447368    0.392344       NaN   35.627188   \n",
       "std      14.181209    0.896760    0.981429       NaN   55.907576   \n",
       "min       0.170000    0.000000    0.000000       NaN    0.000000   \n",
       "25%      21.000000    0.000000    0.000000       NaN    7.895800   \n",
       "50%      27.000000    0.000000    0.000000       NaN   14.454200   \n",
       "75%      39.000000    1.000000    0.000000       NaN   31.500000   \n",
       "max      76.000000    8.000000    9.000000       NaN  512.329200   \n",
       "\n",
       "                  Cabin Embarked  \n",
       "count                91      418  \n",
       "unique               76        3  \n",
       "top     B57 B59 B63 B66        S  \n",
       "freq                  3      270  \n",
       "mean                NaN      NaN  \n",
       "std                 NaN      NaN  \n",
       "min                 NaN      NaN  \n",
       "25%                 NaN      NaN  \n",
       "50%                 NaN      NaN  \n",
       "75%                 NaN      NaN  \n",
       "max                 NaN      NaN  "
      ]
     },
     "execution_count": 7,
     "metadata": {},
     "output_type": "execute_result"
    }
   ],
   "source": [
    "test.describe(include='all')"
   ]
  },
  {
   "cell_type": "code",
   "execution_count": 8,
   "metadata": {
    "execution": {
     "iopub.execute_input": "2021-02-13T11:39:11.791093Z",
     "iopub.status.busy": "2021-02-13T11:39:11.790294Z",
     "iopub.status.idle": "2021-02-13T11:39:11.793983Z",
     "shell.execute_reply": "2021-02-13T11:39:11.793308Z"
    },
    "papermill": {
     "duration": 0.04436,
     "end_time": "2021-02-13T11:39:11.794132",
     "exception": false,
     "start_time": "2021-02-13T11:39:11.749772",
     "status": "completed"
    },
    "tags": []
   },
   "outputs": [],
   "source": [
    "# globals\n",
    "\n",
    "PID = 'PassengerId'\n",
    "PCLASS,NAME,GENDER,AGE,SIBLINGS,PARENTS,TICKET,FARE,CABIN,EMBARKED='Pclass','Name','Sex','Age','SibSp','Parch','Ticket','Fare','Cabin','Embarked'\n",
    "SEX = GENDER\n",
    "DECK,TITLE = 'Deck','Title'\n",
    "TICKET_PREFIX = 'Ticket Prefix'\n",
    "FAMILY_SIZE = 'Family Size'\n",
    "# FARE_PER_PERSON = 'FarePerPerson'\n",
    "# TOTAL_FAM_FARE = 'TotalFamilyFare'\n",
    "\n",
    "SURVIVED = LABEL = 'Survived'"
   ]
  },
  {
   "cell_type": "code",
   "execution_count": 9,
   "metadata": {
    "execution": {
     "iopub.execute_input": "2021-02-13T11:39:11.873799Z",
     "iopub.status.busy": "2021-02-13T11:39:11.872613Z",
     "iopub.status.idle": "2021-02-13T11:39:11.879321Z",
     "shell.execute_reply": "2021-02-13T11:39:11.878625Z"
    },
    "papermill": {
     "duration": 0.050086,
     "end_time": "2021-02-13T11:39:11.879472",
     "exception": false,
     "start_time": "2021-02-13T11:39:11.829386",
     "status": "completed"
    },
    "tags": []
   },
   "outputs": [
    {
     "name": "stdout",
     "output_type": "stream",
     "text": [
      "Nans:\n"
     ]
    },
    {
     "data": {
      "text/plain": [
       "PassengerId      0\n",
       "Survived         0\n",
       "Pclass           0\n",
       "Name             0\n",
       "Sex              0\n",
       "Age            177\n",
       "SibSp            0\n",
       "Parch            0\n",
       "Ticket           0\n",
       "Fare             0\n",
       "Cabin          687\n",
       "Embarked         2\n",
       "dtype: int64"
      ]
     },
     "execution_count": 9,
     "metadata": {},
     "output_type": "execute_result"
    }
   ],
   "source": [
    "print('Nans:')\n",
    "training.isna().sum()"
   ]
  },
  {
   "cell_type": "code",
   "execution_count": 10,
   "metadata": {
    "execution": {
     "iopub.execute_input": "2021-02-13T11:39:11.960291Z",
     "iopub.status.busy": "2021-02-13T11:39:11.958648Z",
     "iopub.status.idle": "2021-02-13T11:39:11.968541Z",
     "shell.execute_reply": "2021-02-13T11:39:11.967794Z"
    },
    "papermill": {
     "duration": 0.053196,
     "end_time": "2021-02-13T11:39:11.968697",
     "exception": false,
     "start_time": "2021-02-13T11:39:11.915501",
     "status": "completed"
    },
    "tags": []
   },
   "outputs": [
    {
     "data": {
      "text/plain": [
       "PassengerId      0\n",
       "Survived         0\n",
       "Pclass           0\n",
       "Name             0\n",
       "Sex              0\n",
       "Age            177\n",
       "SibSp            0\n",
       "Parch            0\n",
       "Ticket           0\n",
       "Fare             0\n",
       "Cabin          687\n",
       "Embarked         0\n",
       "dtype: int64"
      ]
     },
     "execution_count": 10,
     "metadata": {},
     "output_type": "execute_result"
    }
   ],
   "source": [
    "# Embarked Nans are just a few. Drop`em\n",
    "training = training.dropna(subset=[EMBARKED]).reset_index(drop=True)\n",
    "training.isna().sum()"
   ]
  },
  {
   "cell_type": "code",
   "execution_count": 11,
   "metadata": {
    "execution": {
     "iopub.execute_input": "2021-02-13T11:39:12.079680Z",
     "iopub.status.busy": "2021-02-13T11:39:12.053347Z",
     "iopub.status.idle": "2021-02-13T11:39:12.086012Z",
     "shell.execute_reply": "2021-02-13T11:39:12.085083Z"
    },
    "papermill": {
     "duration": 0.078751,
     "end_time": "2021-02-13T11:39:12.086216",
     "exception": false,
     "start_time": "2021-02-13T11:39:12.007465",
     "status": "completed"
    },
    "tags": []
   },
   "outputs": [
    {
     "name": "stdout",
     "output_type": "stream",
     "text": [
      "All data size: 1307\n"
     ]
    },
    {
     "data": {
      "text/html": [
       "<div>\n",
       "<style scoped>\n",
       "    .dataframe tbody tr th:only-of-type {\n",
       "        vertical-align: middle;\n",
       "    }\n",
       "\n",
       "    .dataframe tbody tr th {\n",
       "        vertical-align: top;\n",
       "    }\n",
       "\n",
       "    .dataframe thead th {\n",
       "        text-align: right;\n",
       "    }\n",
       "</style>\n",
       "<table border=\"1\" class=\"dataframe\">\n",
       "  <thead>\n",
       "    <tr style=\"text-align: right;\">\n",
       "      <th></th>\n",
       "      <th>PassengerId</th>\n",
       "      <th>Survived</th>\n",
       "      <th>Pclass</th>\n",
       "      <th>Name</th>\n",
       "      <th>Sex</th>\n",
       "      <th>Age</th>\n",
       "      <th>SibSp</th>\n",
       "      <th>Parch</th>\n",
       "      <th>Ticket</th>\n",
       "      <th>Fare</th>\n",
       "      <th>Cabin</th>\n",
       "      <th>Embarked</th>\n",
       "    </tr>\n",
       "  </thead>\n",
       "  <tbody>\n",
       "    <tr>\n",
       "      <th>0</th>\n",
       "      <td>1</td>\n",
       "      <td>0.0</td>\n",
       "      <td>3</td>\n",
       "      <td>Braund, Mr. Owen Harris</td>\n",
       "      <td>male</td>\n",
       "      <td>22.0</td>\n",
       "      <td>1</td>\n",
       "      <td>0</td>\n",
       "      <td>A/5 21171</td>\n",
       "      <td>7.2500</td>\n",
       "      <td>NaN</td>\n",
       "      <td>S</td>\n",
       "    </tr>\n",
       "    <tr>\n",
       "      <th>1</th>\n",
       "      <td>2</td>\n",
       "      <td>1.0</td>\n",
       "      <td>1</td>\n",
       "      <td>Cumings, Mrs. John Bradley (Florence Briggs Th...</td>\n",
       "      <td>female</td>\n",
       "      <td>38.0</td>\n",
       "      <td>1</td>\n",
       "      <td>0</td>\n",
       "      <td>PC 17599</td>\n",
       "      <td>71.2833</td>\n",
       "      <td>C85</td>\n",
       "      <td>C</td>\n",
       "    </tr>\n",
       "    <tr>\n",
       "      <th>2</th>\n",
       "      <td>3</td>\n",
       "      <td>1.0</td>\n",
       "      <td>3</td>\n",
       "      <td>Heikkinen, Miss. Laina</td>\n",
       "      <td>female</td>\n",
       "      <td>26.0</td>\n",
       "      <td>0</td>\n",
       "      <td>0</td>\n",
       "      <td>STON/O2. 3101282</td>\n",
       "      <td>7.9250</td>\n",
       "      <td>NaN</td>\n",
       "      <td>S</td>\n",
       "    </tr>\n",
       "    <tr>\n",
       "      <th>3</th>\n",
       "      <td>4</td>\n",
       "      <td>1.0</td>\n",
       "      <td>1</td>\n",
       "      <td>Futrelle, Mrs. Jacques Heath (Lily May Peel)</td>\n",
       "      <td>female</td>\n",
       "      <td>35.0</td>\n",
       "      <td>1</td>\n",
       "      <td>0</td>\n",
       "      <td>113803</td>\n",
       "      <td>53.1000</td>\n",
       "      <td>C123</td>\n",
       "      <td>S</td>\n",
       "    </tr>\n",
       "    <tr>\n",
       "      <th>4</th>\n",
       "      <td>5</td>\n",
       "      <td>0.0</td>\n",
       "      <td>3</td>\n",
       "      <td>Allen, Mr. William Henry</td>\n",
       "      <td>male</td>\n",
       "      <td>35.0</td>\n",
       "      <td>0</td>\n",
       "      <td>0</td>\n",
       "      <td>373450</td>\n",
       "      <td>8.0500</td>\n",
       "      <td>NaN</td>\n",
       "      <td>S</td>\n",
       "    </tr>\n",
       "  </tbody>\n",
       "</table>\n",
       "</div>"
      ],
      "text/plain": [
       "   PassengerId  Survived  Pclass  \\\n",
       "0            1       0.0       3   \n",
       "1            2       1.0       1   \n",
       "2            3       1.0       3   \n",
       "3            4       1.0       1   \n",
       "4            5       0.0       3   \n",
       "\n",
       "                                                Name     Sex   Age  SibSp  \\\n",
       "0                            Braund, Mr. Owen Harris    male  22.0      1   \n",
       "1  Cumings, Mrs. John Bradley (Florence Briggs Th...  female  38.0      1   \n",
       "2                             Heikkinen, Miss. Laina  female  26.0      0   \n",
       "3       Futrelle, Mrs. Jacques Heath (Lily May Peel)  female  35.0      1   \n",
       "4                           Allen, Mr. William Henry    male  35.0      0   \n",
       "\n",
       "   Parch            Ticket     Fare Cabin Embarked  \n",
       "0      0         A/5 21171   7.2500   NaN        S  \n",
       "1      0          PC 17599  71.2833   C85        C  \n",
       "2      0  STON/O2. 3101282   7.9250   NaN        S  \n",
       "3      0            113803  53.1000  C123        S  \n",
       "4      0            373450   8.0500   NaN        S  "
      ]
     },
     "execution_count": 11,
     "metadata": {},
     "output_type": "execute_result"
    }
   ],
   "source": [
    "# combine training and test for easier work\n",
    "alldata = training.append(test).reset_index(drop=True)\n",
    "alldata.fillna(np.NaN, inplace=True)\n",
    "print(f'All data size: {alldata.shape[0]}')\n",
    "alldata.head()"
   ]
  },
  {
   "cell_type": "code",
   "execution_count": 12,
   "metadata": {
    "execution": {
     "iopub.execute_input": "2021-02-13T11:39:12.189679Z",
     "iopub.status.busy": "2021-02-13T11:39:12.182573Z",
     "iopub.status.idle": "2021-02-13T11:39:12.199123Z",
     "shell.execute_reply": "2021-02-13T11:39:12.199847Z"
    },
    "papermill": {
     "duration": 0.070257,
     "end_time": "2021-02-13T11:39:12.200139",
     "exception": false,
     "start_time": "2021-02-13T11:39:12.129882",
     "status": "completed"
    },
    "tags": []
   },
   "outputs": [
    {
     "name": "stdout",
     "output_type": "stream",
     "text": [
      "Nans:\n"
     ]
    },
    {
     "data": {
      "text/plain": [
       "PassengerId       0\n",
       "Survived        418\n",
       "Pclass            0\n",
       "Name              0\n",
       "Sex               0\n",
       "Age             263\n",
       "SibSp             0\n",
       "Parch             0\n",
       "Ticket            0\n",
       "Fare              1\n",
       "Cabin          1014\n",
       "Embarked          0\n",
       "dtype: int64"
      ]
     },
     "execution_count": 12,
     "metadata": {},
     "output_type": "execute_result"
    }
   ],
   "source": [
    "print('Nans:')\n",
    "alldata.isna().sum()"
   ]
  },
  {
   "cell_type": "code",
   "execution_count": 13,
   "metadata": {
    "execution": {
     "iopub.execute_input": "2021-02-13T11:39:12.292247Z",
     "iopub.status.busy": "2021-02-13T11:39:12.291221Z",
     "iopub.status.idle": "2021-02-13T11:39:12.296788Z",
     "shell.execute_reply": "2021-02-13T11:39:12.295990Z"
    },
    "papermill": {
     "duration": 0.051558,
     "end_time": "2021-02-13T11:39:12.296967",
     "exception": false,
     "start_time": "2021-02-13T11:39:12.245409",
     "status": "completed"
    },
    "tags": []
   },
   "outputs": [],
   "source": [
    "# 1 Nan FARE, fill it with mean (33) or median (14)\n",
    "\n",
    "#alldata[FARE].describe()\n",
    "alldata[FARE] = alldata[FARE].fillna(alldata[FARE].dropna().median())"
   ]
  },
  {
   "cell_type": "code",
   "execution_count": 14,
   "metadata": {
    "execution": {
     "iopub.execute_input": "2021-02-13T11:39:12.401662Z",
     "iopub.status.busy": "2021-02-13T11:39:12.384272Z",
     "iopub.status.idle": "2021-02-13T11:39:12.787509Z",
     "shell.execute_reply": "2021-02-13T11:39:12.786798Z"
    },
    "papermill": {
     "duration": 0.451997,
     "end_time": "2021-02-13T11:39:12.787674",
     "exception": false,
     "start_time": "2021-02-13T11:39:12.335677",
     "status": "completed"
    },
    "tags": []
   },
   "outputs": [
    {
     "data": {
      "image/png": "[encoded data removed]",
      "text/plain": [
       "<Figure size 1440x432 with 2 Axes>"
      ]
     },
     "metadata": {},
     "output_type": "display_data"
    }
   ],
   "source": [
    "# we have to predict the AGE for the missing entries\n",
    "# we can use knn to impute the data, but first we better find the features the correlate the best with the AGE\n",
    "g = sns.heatmap(training[[AGE, SIBLINGS, PARENTS, FARE, PCLASS]].corr(),annot=True, fmt = \".2f\", cmap = \"coolwarm\")\n",
    "# conclusion: all of them are quite informative except fare"
   ]
  },
  {
   "cell_type": "code",
   "execution_count": 15,
   "metadata": {
    "execution": {
     "iopub.execute_input": "2021-02-13T11:39:12.909536Z",
     "iopub.status.busy": "2021-02-13T11:39:12.896070Z",
     "iopub.status.idle": "2021-02-13T11:39:13.162695Z",
     "shell.execute_reply": "2021-02-13T11:39:13.163322Z"
    },
    "papermill": {
     "duration": 0.33713,
     "end_time": "2021-02-13T11:39:13.163605",
     "exception": false,
     "start_time": "2021-02-13T11:39:12.826475",
     "status": "completed"
    },
    "tags": []
   },
   "outputs": [
    {
     "data": {
      "image/png": "[encoded data removed]",
      "text/plain": [
       "<Figure size 360x360 with 1 Axes>"
      ]
     },
     "metadata": {},
     "output_type": "display_data"
    }
   ],
   "source": [
    "# see if gender is correlated with age\n",
    "g = sns.catplot(y=AGE, x=GENDER, data=training, kind='box')\n",
    "# conclusion: slightly, so don't use it for imputation"
   ]
  },
  {
   "cell_type": "code",
   "execution_count": 16,
   "metadata": {
    "execution": {
     "iopub.execute_input": "2021-02-13T11:39:13.254538Z",
     "iopub.status.busy": "2021-02-13T11:39:13.253878Z",
     "iopub.status.idle": "2021-02-13T11:39:13.296261Z",
     "shell.execute_reply": "2021-02-13T11:39:13.296992Z"
    },
    "papermill": {
     "duration": 0.088863,
     "end_time": "2021-02-13T11:39:13.297183",
     "exception": false,
     "start_time": "2021-02-13T11:39:13.208320",
     "status": "completed"
    },
    "tags": []
   },
   "outputs": [
    {
     "data": {
      "text/plain": [
       "PassengerId       0\n",
       "Survived        418\n",
       "Pclass            0\n",
       "Name              0\n",
       "Sex               0\n",
       "Age               0\n",
       "SibSp             0\n",
       "Parch             0\n",
       "Ticket            0\n",
       "Fare              0\n",
       "Cabin          1014\n",
       "Embarked          0\n",
       "dtype: int64"
      ]
     },
     "execution_count": 16,
     "metadata": {},
     "output_type": "execute_result"
    }
   ],
   "source": [
    "# impute age using PARENTS, SIBLINGS, PCLASS\n",
    "imputer = KNNImputer(n_neighbors=10)  # TODO: Try different neighbors number\n",
    "imputed_data = imputer.fit_transform(alldata[[PARENTS, SIBLINGS, PCLASS, AGE]])\n",
    "df_temp = pd.DataFrame(imputed_data)\n",
    "df_temp.columns = [PARENTS, SIBLINGS, PCLASS, AGE]\n",
    "alldata[AGE] = df_temp[AGE]\n",
    "alldata.isna().sum()"
   ]
  },
  {
   "cell_type": "code",
   "execution_count": 17,
   "metadata": {
    "execution": {
     "iopub.execute_input": "2021-02-13T11:39:13.384495Z",
     "iopub.status.busy": "2021-02-13T11:39:13.383297Z",
     "iopub.status.idle": "2021-02-13T11:39:13.399774Z",
     "shell.execute_reply": "2021-02-13T11:39:13.398416Z"
    },
    "papermill": {
     "duration": 0.062888,
     "end_time": "2021-02-13T11:39:13.400012",
     "exception": false,
     "start_time": "2021-02-13T11:39:13.337124",
     "status": "completed"
    },
    "tags": []
   },
   "outputs": [
    {
     "name": "stdout",
     "output_type": "stream",
     "text": [
      "3    709\n",
      "1    321\n",
      "2    277\n",
      "Name: Pclass, dtype: int64\n",
      "\n",
      "male      843\n",
      "female    464\n",
      "Name: Sex, dtype: int64\n",
      "\n",
      "S    914\n",
      "C    270\n",
      "Q    123\n",
      "Name: Embarked, dtype: int64\n",
      "\n",
      "C23 C25 C27        6\n",
      "B57 B59 B63 B66    5\n",
      "G6                 5\n",
      "C22 C26            4\n",
      "F4                 4\n",
      "                  ..\n",
      "A5                 1\n",
      "E63                1\n",
      "D48                1\n",
      "B38                1\n",
      "B36                1\n",
      "Name: Cabin, Length: 185, dtype: int64\n",
      "\n"
     ]
    }
   ],
   "source": [
    "# explore cat features\n",
    "for col in [PCLASS, GENDER, EMBARKED, CABIN]:\n",
    "    print(alldata[col].value_counts())\n",
    "    print('')\n",
    "\n",
    "# conculsions: cabins have to be grouped.\n",
    "# the Nans in cabins will all be grouped together"
   ]
  },
  {
   "cell_type": "code",
   "execution_count": 18,
   "metadata": {
    "execution": {
     "iopub.execute_input": "2021-02-13T11:39:13.495713Z",
     "iopub.status.busy": "2021-02-13T11:39:13.495013Z",
     "iopub.status.idle": "2021-02-13T11:39:13.499329Z",
     "shell.execute_reply": "2021-02-13T11:39:13.498791Z"
    },
    "papermill": {
     "duration": 0.057126,
     "end_time": "2021-02-13T11:39:13.499491",
     "exception": false,
     "start_time": "2021-02-13T11:39:13.442365",
     "status": "completed"
    },
    "tags": []
   },
   "outputs": [
    {
     "name": "stdout",
     "output_type": "stream",
     "text": [
      "Unknown    1014\n",
      "C            94\n",
      "B            63\n",
      "D            46\n",
      "E            41\n",
      "A            22\n",
      "F            21\n",
      "G             5\n",
      "T             1\n",
      "Name: Cabin, dtype: int64\n"
     ]
    }
   ],
   "source": [
    "#create new column DECK, which groups up the cabins\n",
    "#all empty cabins will be grouped together as a separate group\n",
    "temp = alldata[CABIN].apply(extract_cabin_letter)\n",
    "print(temp.value_counts())\n",
    "alldata[DECK] = temp\n",
    "\n",
    "#drop the cabin column, we don't need it anymore\n",
    "alldata.drop([CABIN], axis=1, inplace=True)"
   ]
  },
  {
   "cell_type": "code",
   "execution_count": 19,
   "metadata": {
    "execution": {
     "iopub.execute_input": "2021-02-13T11:39:13.592408Z",
     "iopub.status.busy": "2021-02-13T11:39:13.591327Z",
     "iopub.status.idle": "2021-02-13T11:39:14.112160Z",
     "shell.execute_reply": "2021-02-13T11:39:14.111467Z"
    },
    "papermill": {
     "duration": 0.57097,
     "end_time": "2021-02-13T11:39:14.112315",
     "exception": false,
     "start_time": "2021-02-13T11:39:13.541345",
     "status": "completed"
    },
    "tags": []
   },
   "outputs": [
    {
     "data": {
      "image/png": "[encoded data removed]",
      "text/plain": [
       "<Figure size 1440x432 with 1 Axes>"
      ]
     },
     "metadata": {},
     "output_type": "display_data"
    }
   ],
   "source": [
    "# visualize deck against survival\n",
    "g = sns.barplot(x=DECK, y=LABEL, data=alldata[:training.shape[0]])\n",
    "\n",
    "#conclusion: Unknown, G, A have a low chance of survival"
   ]
  },
  {
   "cell_type": "code",
   "execution_count": 20,
   "metadata": {
    "execution": {
     "iopub.execute_input": "2021-02-13T11:39:14.223874Z",
     "iopub.status.busy": "2021-02-13T11:39:14.223141Z",
     "iopub.status.idle": "2021-02-13T11:39:15.208771Z",
     "shell.execute_reply": "2021-02-13T11:39:15.208195Z"
    },
    "papermill": {
     "duration": 1.052789,
     "end_time": "2021-02-13T11:39:15.208946",
     "exception": false,
     "start_time": "2021-02-13T11:39:14.156157",
     "status": "completed"
    },
    "tags": []
   },
   "outputs": [
    {
     "data": {
      "image/png": "[encoded data removed]",
      "text/plain": [
       "<Figure size 1440x432 with 1 Axes>"
      ]
     },
     "metadata": {},
     "output_type": "display_data"
    },
    {
     "data": {
      "image/png": "[encoded data removed]",
      "text/plain": [
       "<Figure size 1440x432 with 1 Axes>"
      ]
     },
     "metadata": {},
     "output_type": "display_data"
    },
    {
     "data": {
      "image/png": "[encoded data removed]",
      "text/plain": [
       "<Figure size 1440x432 with 1 Axes>"
      ]
     },
     "metadata": {},
     "output_type": "display_data"
    },
    {
     "data": {
      "image/png": "[encoded data removed]",
      "text/plain": [
       "<Figure size 1440x432 with 1 Axes>"
      ]
     },
     "metadata": {},
     "output_type": "display_data"
    }
   ],
   "source": [
    "#explore the numeric data\n",
    "\n",
    "# histograms to visualize distribution of numeric features\n",
    "visualize_cols = [AGE, SIBLINGS, PARENTS, FARE]\n",
    "for col in visualize_cols:\n",
    "    draw_hist(alldata[col])\n",
    "\n",
    "# conclusions: SIBLINGS, PARENTS, FARE need to be logged / normalized."
   ]
  },
  {
   "cell_type": "code",
   "execution_count": 21,
   "metadata": {
    "execution": {
     "iopub.execute_input": "2021-02-13T11:39:15.309188Z",
     "iopub.status.busy": "2021-02-13T11:39:15.308431Z",
     "iopub.status.idle": "2021-02-13T11:39:15.311878Z",
     "shell.execute_reply": "2021-02-13T11:39:15.311233Z"
    },
    "papermill": {
     "duration": 0.057964,
     "end_time": "2021-02-13T11:39:15.312049",
     "exception": false,
     "start_time": "2021-02-13T11:39:15.254085",
     "status": "completed"
    },
    "tags": []
   },
   "outputs": [],
   "source": [
    "# add the family size feature here (thought about it too late)\n",
    "alldata[FAMILY_SIZE] = alldata[SIBLINGS] + alldata[PARENTS] + 1  # 1 is the person themselves\n",
    "\n",
    "# save it for later visualization\n",
    "fam_size_backup_df = pd.DataFrame()\n",
    "fam_size_backup_df[FAMILY_SIZE] = alldata[FAMILY_SIZE].copy()\n",
    "fam_size_backup_df[LABEL] = alldata[LABEL]"
   ]
  },
  {
   "cell_type": "code",
   "execution_count": 22,
   "metadata": {
    "execution": {
     "iopub.execute_input": "2021-02-13T11:39:15.409237Z",
     "iopub.status.busy": "2021-02-13T11:39:15.408577Z",
     "iopub.status.idle": "2021-02-13T11:39:16.108037Z",
     "shell.execute_reply": "2021-02-13T11:39:16.107193Z"
    },
    "papermill": {
     "duration": 0.751127,
     "end_time": "2021-02-13T11:39:16.108211",
     "exception": false,
     "start_time": "2021-02-13T11:39:15.357084",
     "status": "completed"
    },
    "tags": []
   },
   "outputs": [
    {
     "data": {
      "image/png": "[encoded data removed]",
      "text/plain": [
       "<Figure size 1440x432 with 1 Axes>"
      ]
     },
     "metadata": {},
     "output_type": "display_data"
    },
    {
     "data": {
      "image/png": "[encoded data removed]",
      "text/plain": [
       "<Figure size 1440x432 with 1 Axes>"
      ]
     },
     "metadata": {},
     "output_type": "display_data"
    },
    {
     "data": {
      "image/png": "[encoded data removed]",
      "text/plain": [
       "<Figure size 1440x432 with 1 Axes>"
      ]
     },
     "metadata": {},
     "output_type": "display_data"
    }
   ],
   "source": [
    "# transform skewed features to log\n",
    "# now transform\n",
    "for col in [SIBLINGS, PARENTS, FARE]:\n",
    "    temp = np.log(alldata[col] + 1)\n",
    "    draw_hist(temp)\n",
    "    alldata[col] = temp"
   ]
  },
  {
   "cell_type": "code",
   "execution_count": 23,
   "metadata": {
    "execution": {
     "iopub.execute_input": "2021-02-13T11:39:16.217556Z",
     "iopub.status.busy": "2021-02-13T11:39:16.214319Z",
     "iopub.status.idle": "2021-02-13T11:39:16.226392Z",
     "shell.execute_reply": "2021-02-13T11:39:16.225618Z"
    },
    "papermill": {
     "duration": 0.06877,
     "end_time": "2021-02-13T11:39:16.226553",
     "exception": false,
     "start_time": "2021-02-13T11:39:16.157783",
     "status": "completed"
    },
    "tags": []
   },
   "outputs": [
    {
     "data": {
      "text/html": [
       "<div>\n",
       "<style scoped>\n",
       "    .dataframe tbody tr th:only-of-type {\n",
       "        vertical-align: middle;\n",
       "    }\n",
       "\n",
       "    .dataframe tbody tr th {\n",
       "        vertical-align: top;\n",
       "    }\n",
       "\n",
       "    .dataframe thead th {\n",
       "        text-align: right;\n",
       "    }\n",
       "</style>\n",
       "<table border=\"1\" class=\"dataframe\">\n",
       "  <thead>\n",
       "    <tr style=\"text-align: right;\">\n",
       "      <th></th>\n",
       "      <th>Name</th>\n",
       "      <th>Ticket</th>\n",
       "    </tr>\n",
       "  </thead>\n",
       "  <tbody>\n",
       "    <tr>\n",
       "      <th>0</th>\n",
       "      <td>Braund, Mr. Owen Harris</td>\n",
       "      <td>A/5 21171</td>\n",
       "    </tr>\n",
       "    <tr>\n",
       "      <th>1</th>\n",
       "      <td>Cumings, Mrs. John Bradley (Florence Briggs Th...</td>\n",
       "      <td>PC 17599</td>\n",
       "    </tr>\n",
       "    <tr>\n",
       "      <th>2</th>\n",
       "      <td>Heikkinen, Miss. Laina</td>\n",
       "      <td>STON/O2. 3101282</td>\n",
       "    </tr>\n",
       "    <tr>\n",
       "      <th>3</th>\n",
       "      <td>Futrelle, Mrs. Jacques Heath (Lily May Peel)</td>\n",
       "      <td>113803</td>\n",
       "    </tr>\n",
       "    <tr>\n",
       "      <th>4</th>\n",
       "      <td>Allen, Mr. William Henry</td>\n",
       "      <td>373450</td>\n",
       "    </tr>\n",
       "  </tbody>\n",
       "</table>\n",
       "</div>"
      ],
      "text/plain": [
       "                                                Name            Ticket\n",
       "0                            Braund, Mr. Owen Harris         A/5 21171\n",
       "1  Cumings, Mrs. John Bradley (Florence Briggs Th...          PC 17599\n",
       "2                             Heikkinen, Miss. Laina  STON/O2. 3101282\n",
       "3       Futrelle, Mrs. Jacques Heath (Lily May Peel)            113803\n",
       "4                           Allen, Mr. William Henry            373450"
      ]
     },
     "execution_count": 23,
     "metadata": {},
     "output_type": "execute_result"
    }
   ],
   "source": [
    "#explore the rest of the features (NAME, TICKET)\n",
    "\n",
    "alldata[[NAME, TICKET]].head()\n",
    "\n",
    "#conclusions: NAME has a title! (Mr. / Miss. / ...)"
   ]
  },
  {
   "cell_type": "code",
   "execution_count": 24,
   "metadata": {
    "execution": {
     "iopub.execute_input": "2021-02-13T11:39:16.331244Z",
     "iopub.status.busy": "2021-02-13T11:39:16.330544Z",
     "iopub.status.idle": "2021-02-13T11:39:16.341043Z",
     "shell.execute_reply": "2021-02-13T11:39:16.340476Z"
    },
    "papermill": {
     "duration": 0.066906,
     "end_time": "2021-02-13T11:39:16.341195",
     "exception": false,
     "start_time": "2021-02-13T11:39:16.274289",
     "status": "completed"
    },
    "tags": []
   },
   "outputs": [
    {
     "name": "stdout",
     "output_type": "stream",
     "text": [
      "Unique title values: 18\n"
     ]
    },
    {
     "data": {
      "text/plain": [
       "Mr              757\n",
       "Miss            259\n",
       "Mrs             196\n",
       "Master           61\n",
       "Dr                8\n",
       "Rev               8\n",
       "Col               4\n",
       "Major             2\n",
       "Ms                2\n",
       "Mlle              2\n",
       "Don               1\n",
       "Mme               1\n",
       "Sir               1\n",
       "Capt              1\n",
       "Lady              1\n",
       "Dona              1\n",
       "Jonkheer          1\n",
       "the Countess      1\n",
       "Name: Name, dtype: int64"
      ]
     },
     "execution_count": 24,
     "metadata": {},
     "output_type": "execute_result"
    }
   ],
   "source": [
    "#extract the title, and group common titles together.\n",
    "#first let's see how many titles there are\n",
    "titles = alldata[NAME].apply(get_title_from_name)\n",
    "print(f'Unique title values: {titles.nunique()}')\n",
    "titles.value_counts()"
   ]
  },
  {
   "cell_type": "code",
   "execution_count": 25,
   "metadata": {
    "execution": {
     "iopub.execute_input": "2021-02-13T11:39:16.448477Z",
     "iopub.status.busy": "2021-02-13T11:39:16.447783Z",
     "iopub.status.idle": "2021-02-13T11:39:16.450061Z",
     "shell.execute_reply": "2021-02-13T11:39:16.450634Z"
    },
    "papermill": {
     "duration": 0.061003,
     "end_time": "2021-02-13T11:39:16.450812",
     "exception": false,
     "start_time": "2021-02-13T11:39:16.389809",
     "status": "completed"
    },
    "tags": []
   },
   "outputs": [],
   "source": [
    "# add the title feature\n",
    "alldata[TITLE] = titles"
   ]
  },
  {
   "cell_type": "code",
   "execution_count": 26,
   "metadata": {
    "execution": {
     "iopub.execute_input": "2021-02-13T11:39:16.553704Z",
     "iopub.status.busy": "2021-02-13T11:39:16.552899Z",
     "iopub.status.idle": "2021-02-13T11:39:17.203401Z",
     "shell.execute_reply": "2021-02-13T11:39:17.203983Z"
    },
    "papermill": {
     "duration": 0.704433,
     "end_time": "2021-02-13T11:39:17.204174",
     "exception": false,
     "start_time": "2021-02-13T11:39:16.499741",
     "status": "completed"
    },
    "tags": []
   },
   "outputs": [
    {
     "data": {
      "image/png": "[encoded data removed]",
      "text/plain": [
       "<Figure size 1440x432 with 1 Axes>"
      ]
     },
     "metadata": {},
     "output_type": "display_data"
    }
   ],
   "source": [
    "# we already have the gender feature, so [Mr vs. Mrss & Miss] is already covered. but let's draw a bars graph against SURVIVAL\n",
    "\n",
    "g = sns.barplot(x=TITLE, y=LABEL, data=alldata[:training.shape[0]])\n",
    "\n",
    "# conclusion: Mr (males) have low chance of survival, and females (Mrs. / Miss) have a high chance of survival (women and children first).\n",
    "# also Mrs. and Miss have different percentages, so we'll separate those too.\n",
    "# but it's not clear what \"Master\" means. Its chance of survival differs from the other major groups, so we should make it a separate group by itself.\n",
    "# the other titles are not informative since they are very small (e.g. 'the Countess' we have only 1).\n",
    "# so we will group everything to 4 major titles: Mr / Mrs. / Miss / Master"
   ]
  },
  {
   "cell_type": "code",
   "execution_count": 27,
   "metadata": {
    "execution": {
     "iopub.execute_input": "2021-02-13T11:39:17.312993Z",
     "iopub.status.busy": "2021-02-13T11:39:17.312263Z",
     "iopub.status.idle": "2021-02-13T11:39:17.781080Z",
     "shell.execute_reply": "2021-02-13T11:39:17.781561Z"
    },
    "papermill": {
     "duration": 0.524377,
     "end_time": "2021-02-13T11:39:17.781841",
     "exception": false,
     "start_time": "2021-02-13T11:39:17.257464",
     "status": "completed"
    },
    "tags": []
   },
   "outputs": [
    {
     "data": {
      "image/png": "[encoded data removed]",
      "text/plain": [
       "<Figure size 1440x432 with 1 Axes>"
      ]
     },
     "metadata": {},
     "output_type": "display_data"
    }
   ],
   "source": [
    "# compact title column\n",
    "alldata[TITLE] = alldata.apply(compact_title, axis=1)\n",
    "g = sns.barplot(x=TITLE, y=LABEL, data=alldata[:training.shape[0]])\n",
    "# TODO: Try the following groups instead: Mr / Mrs & Ms / Other"
   ]
  },
  {
   "cell_type": "code",
   "execution_count": 28,
   "metadata": {
    "execution": {
     "iopub.execute_input": "2021-02-13T11:39:17.909064Z",
     "iopub.status.busy": "2021-02-13T11:39:17.904218Z",
     "iopub.status.idle": "2021-02-13T11:39:17.915814Z",
     "shell.execute_reply": "2021-02-13T11:39:17.915152Z"
    },
    "papermill": {
     "duration": 0.082253,
     "end_time": "2021-02-13T11:39:17.915979",
     "exception": false,
     "start_time": "2021-02-13T11:39:17.833726",
     "status": "completed"
    },
    "tags": []
   },
   "outputs": [
    {
     "data": {
      "text/plain": [
       "['110152',\n",
       " '110152',\n",
       " '110152',\n",
       " '110413',\n",
       " '110413',\n",
       " '110413',\n",
       " '110465',\n",
       " '110465',\n",
       " '110469',\n",
       " '110489',\n",
       " '110564',\n",
       " '110813',\n",
       " '110813',\n",
       " '111163',\n",
       " '111240',\n",
       " '111320',\n",
       " '111361',\n",
       " '111361',\n",
       " '111369',\n",
       " '111426',\n",
       " '111427',\n",
       " '111428',\n",
       " '112050',\n",
       " '112051',\n",
       " '112052',\n",
       " '112053',\n",
       " '112058',\n",
       " '112058',\n",
       " '112059',\n",
       " '112277',\n",
       " '112377',\n",
       " '112378',\n",
       " '112378',\n",
       " '112379',\n",
       " '112901',\n",
       " '113028',\n",
       " '113038',\n",
       " '113043',\n",
       " '113044',\n",
       " '113050',\n",
       " '113051',\n",
       " '113054',\n",
       " '113055',\n",
       " '113056',\n",
       " '113059',\n",
       " '113059',\n",
       " '113501',\n",
       " '113503',\n",
       " '113503',\n",
       " '113503',\n",
       " '113503',\n",
       " '113503',\n",
       " '113505',\n",
       " '113505',\n",
       " '113509',\n",
       " '113509',\n",
       " '113510',\n",
       " '113514',\n",
       " '113760',\n",
       " '113760',\n",
       " '113760',\n",
       " '113760',\n",
       " '113767',\n",
       " '113773',\n",
       " '113773',\n",
       " '113776',\n",
       " '113776',\n",
       " '113778',\n",
       " '113780',\n",
       " '113781',\n",
       " '113781',\n",
       " '113781',\n",
       " '113781',\n",
       " '113781',\n",
       " '113781',\n",
       " '113783',\n",
       " '113784',\n",
       " '113786',\n",
       " '113787',\n",
       " '113788',\n",
       " '113789',\n",
       " '113789',\n",
       " '113790',\n",
       " '113791',\n",
       " '113792',\n",
       " '113794',\n",
       " '113795',\n",
       " '113796',\n",
       " '113796',\n",
       " '113798',\n",
       " '113798',\n",
       " '113800',\n",
       " '113801',\n",
       " '113803',\n",
       " '113803',\n",
       " '113804',\n",
       " '113806',\n",
       " '113806',\n",
       " '113807',\n",
       " '11668',\n",
       " '11668',\n",
       " '11751',\n",
       " '11751',\n",
       " '11752',\n",
       " '11753',\n",
       " '11753',\n",
       " '11755',\n",
       " '11765',\n",
       " '11765',\n",
       " '11767',\n",
       " '11767',\n",
       " '11767',\n",
       " '11769',\n",
       " '11769',\n",
       " '11770',\n",
       " '11771',\n",
       " '11774',\n",
       " '11778',\n",
       " '11778',\n",
       " '11813',\n",
       " '11813',\n",
       " '11967',\n",
       " '11967',\n",
       " '1222',\n",
       " '12233',\n",
       " '12460',\n",
       " '12749',\n",
       " '12749',\n",
       " '12749',\n",
       " '12749',\n",
       " '13049',\n",
       " '13050',\n",
       " '13050',\n",
       " '13213',\n",
       " '13214',\n",
       " '13236',\n",
       " '13236',\n",
       " '13502',\n",
       " '13502',\n",
       " '13502',\n",
       " '13507',\n",
       " '13507',\n",
       " '13508',\n",
       " '13508',\n",
       " '13509',\n",
       " '13567',\n",
       " '13567',\n",
       " '13568',\n",
       " '13695',\n",
       " '13695',\n",
       " '13905',\n",
       " '14311',\n",
       " '14312',\n",
       " '14313',\n",
       " '14973',\n",
       " '1601',\n",
       " '1601',\n",
       " '1601',\n",
       " '1601',\n",
       " '1601',\n",
       " '1601',\n",
       " '1601',\n",
       " '1601',\n",
       " '16966',\n",
       " '16966',\n",
       " '16966',\n",
       " '16966',\n",
       " '16966',\n",
       " '16988',\n",
       " '17421',\n",
       " '17421',\n",
       " '17421',\n",
       " '17421',\n",
       " '17453',\n",
       " '17453',\n",
       " '17463',\n",
       " '17463',\n",
       " '17464',\n",
       " '17464',\n",
       " '17465',\n",
       " '17466',\n",
       " '17474',\n",
       " '17474',\n",
       " '17475',\n",
       " '17764',\n",
       " '17765',\n",
       " '17770',\n",
       " '19877',\n",
       " '19877',\n",
       " '19877',\n",
       " '19924',\n",
       " '19928',\n",
       " '19928',\n",
       " '19928',\n",
       " '19943',\n",
       " '19943',\n",
       " '19947',\n",
       " '19950',\n",
       " '19950',\n",
       " '19950',\n",
       " '19950',\n",
       " '19950',\n",
       " '19950',\n",
       " '19952',\n",
       " '19972',\n",
       " '19988',\n",
       " '19996',\n",
       " '19996',\n",
       " '2003',\n",
       " '2003',\n",
       " '211535',\n",
       " '211536',\n",
       " '21228',\n",
       " '21228',\n",
       " '21332',\n",
       " '21440',\n",
       " '218629',\n",
       " '219533',\n",
       " '220367',\n",
       " '220844',\n",
       " '220845',\n",
       " '220845',\n",
       " '220845',\n",
       " '220845',\n",
       " '220845',\n",
       " '2223',\n",
       " '223596',\n",
       " '226593',\n",
       " '226875',\n",
       " '226875',\n",
       " '228414',\n",
       " '228414',\n",
       " '229236',\n",
       " '230080',\n",
       " '230080',\n",
       " '230080',\n",
       " '230136',\n",
       " '230136',\n",
       " '230136',\n",
       " '230136',\n",
       " '230433',\n",
       " '230433',\n",
       " '230434',\n",
       " '231919',\n",
       " '231919',\n",
       " '231945',\n",
       " '233478',\n",
       " '233639',\n",
       " '233734',\n",
       " '233866',\n",
       " '234360',\n",
       " '234604',\n",
       " '234686',\n",
       " '234818',\n",
       " '235509',\n",
       " '236171',\n",
       " '236852',\n",
       " '236853',\n",
       " '236853',\n",
       " '236854',\n",
       " '237216',\n",
       " '237249',\n",
       " '237393',\n",
       " '237442',\n",
       " '237565',\n",
       " '237668',\n",
       " '237670',\n",
       " '237671',\n",
       " '237734',\n",
       " '237735',\n",
       " '237736',\n",
       " '237736',\n",
       " '237789',\n",
       " '237789',\n",
       " '237798',\n",
       " '239059',\n",
       " '239853',\n",
       " '239853',\n",
       " '239853',\n",
       " '239854',\n",
       " '239855',\n",
       " '239856',\n",
       " '239865',\n",
       " '239865',\n",
       " '240261',\n",
       " '240276',\n",
       " '24065',\n",
       " '24065',\n",
       " '240929',\n",
       " '24160',\n",
       " '24160',\n",
       " '24160',\n",
       " '24160',\n",
       " '242963',\n",
       " '243847',\n",
       " '243847',\n",
       " '243880',\n",
       " '244252',\n",
       " '244252',\n",
       " '244270',\n",
       " '244278',\n",
       " '244310',\n",
       " '244346',\n",
       " '244358',\n",
       " '244358',\n",
       " '244360',\n",
       " '244361',\n",
       " '244367',\n",
       " '244367',\n",
       " '244368',\n",
       " '244373',\n",
       " '248659',\n",
       " '248698',\n",
       " '248706',\n",
       " '248723',\n",
       " '248726',\n",
       " '248727',\n",
       " '248727',\n",
       " '248727',\n",
       " '248731',\n",
       " '248733',\n",
       " '248734',\n",
       " '248738',\n",
       " '248738',\n",
       " '248738',\n",
       " '248740',\n",
       " '248744',\n",
       " '248746',\n",
       " '248747',\n",
       " '250643',\n",
       " '250644',\n",
       " '250644',\n",
       " '250646',\n",
       " '250647',\n",
       " '250647',\n",
       " '250648',\n",
       " '250649',\n",
       " '250649',\n",
       " '250650',\n",
       " '250651',\n",
       " '250651',\n",
       " '250652',\n",
       " '250653',\n",
       " '250655',\n",
       " '250655',\n",
       " '2543',\n",
       " '2620',\n",
       " '2621',\n",
       " '2622',\n",
       " '2623',\n",
       " '2624',\n",
       " '2625',\n",
       " '2625',\n",
       " '2626',\n",
       " '2627',\n",
       " '2627',\n",
       " '2628',\n",
       " '2629',\n",
       " '2631',\n",
       " '26360',\n",
       " '26360',\n",
       " '26360',\n",
       " '2641',\n",
       " '2647',\n",
       " '2648',\n",
       " '2649',\n",
       " '2650',\n",
       " '2650',\n",
       " '2650',\n",
       " '2651',\n",
       " '2651',\n",
       " '2652',\n",
       " '2653',\n",
       " '2653',\n",
       " '2653',\n",
       " '2654',\n",
       " '2655',\n",
       " '2656',\n",
       " '2657',\n",
       " '2658',\n",
       " '2659',\n",
       " '2659',\n",
       " '2660',\n",
       " '2660',\n",
       " '2661',\n",
       " '2661',\n",
       " '2661',\n",
       " '2662',\n",
       " '2662',\n",
       " '2662',\n",
       " '2663',\n",
       " '2664',\n",
       " '2665',\n",
       " '2665',\n",
       " '2666',\n",
       " '2666',\n",
       " '2666',\n",
       " '2666',\n",
       " '2667',\n",
       " '2668',\n",
       " '2668',\n",
       " '2668',\n",
       " '2669',\n",
       " '2670',\n",
       " '26707',\n",
       " '26707',\n",
       " '2671',\n",
       " '2672',\n",
       " '2673',\n",
       " '2674',\n",
       " '2675',\n",
       " '2676',\n",
       " '2677',\n",
       " '2678',\n",
       " '2678',\n",
       " '2678',\n",
       " '2679',\n",
       " '2680',\n",
       " '2680',\n",
       " '2681',\n",
       " '2682',\n",
       " '2683',\n",
       " '2684',\n",
       " '2685',\n",
       " '2686',\n",
       " '2687',\n",
       " '2688',\n",
       " '2689',\n",
       " '2689',\n",
       " '2690',\n",
       " '2691',\n",
       " '2691',\n",
       " '2692',\n",
       " '2693',\n",
       " '2694',\n",
       " '2695',\n",
       " '2696',\n",
       " '2697',\n",
       " '2698',\n",
       " '2699',\n",
       " '2699',\n",
       " '2700',\n",
       " '27042',\n",
       " '27267',\n",
       " '27849',\n",
       " '28004',\n",
       " '28034',\n",
       " '28133',\n",
       " '28134',\n",
       " '28206',\n",
       " '28213',\n",
       " '28220',\n",
       " '28220',\n",
       " '28220',\n",
       " '28221',\n",
       " '28228',\n",
       " '28403',\n",
       " '28403',\n",
       " '28404',\n",
       " '28424',\n",
       " '28425',\n",
       " '28551',\n",
       " '28664',\n",
       " '28664',\n",
       " '28665',\n",
       " '28666',\n",
       " '29011',\n",
       " '2908',\n",
       " '2908',\n",
       " '29103',\n",
       " '29103',\n",
       " '29103',\n",
       " '29104',\n",
       " '29105',\n",
       " '29105',\n",
       " '29106',\n",
       " '29106',\n",
       " '29106',\n",
       " '29107',\n",
       " '29108',\n",
       " '2926',\n",
       " '2926',\n",
       " '29750',\n",
       " '29750',\n",
       " '29750',\n",
       " '29751',\n",
       " '3101264',\n",
       " '3101265',\n",
       " '3101266',\n",
       " '3101267',\n",
       " '3101276',\n",
       " '3101277',\n",
       " '3101278',\n",
       " '3101278',\n",
       " '3101281',\n",
       " '3101295',\n",
       " '3101295',\n",
       " '3101295',\n",
       " '3101295',\n",
       " '3101295',\n",
       " '3101295',\n",
       " '3101295',\n",
       " '3101296',\n",
       " '3101297',\n",
       " '3101298',\n",
       " '3101298',\n",
       " '31027',\n",
       " '31027',\n",
       " '31028',\n",
       " '312991',\n",
       " '312992',\n",
       " '312993',\n",
       " '31418',\n",
       " '315037',\n",
       " '315082',\n",
       " '315083',\n",
       " '315084',\n",
       " '315085',\n",
       " '315086',\n",
       " '315087',\n",
       " '315088',\n",
       " '315089',\n",
       " '315090',\n",
       " '315091',\n",
       " '315092',\n",
       " '315093',\n",
       " '315094',\n",
       " '315095',\n",
       " '315096',\n",
       " '315097',\n",
       " '315098',\n",
       " '315151',\n",
       " '315152',\n",
       " '315153',\n",
       " '315153',\n",
       " '315153',\n",
       " '315154',\n",
       " '32302',\n",
       " '323592',\n",
       " '323951',\n",
       " '324669',\n",
       " '329944',\n",
       " '330844',\n",
       " '330877',\n",
       " '330909',\n",
       " '330910',\n",
       " '330911',\n",
       " '330919',\n",
       " '330920',\n",
       " '330923',\n",
       " '330924',\n",
       " '330931',\n",
       " '330932',\n",
       " '330935',\n",
       " '330958',\n",
       " '330959',\n",
       " '330963',\n",
       " '330968',\n",
       " '330971',\n",
       " '330972',\n",
       " '330979',\n",
       " '330980',\n",
       " '334912',\n",
       " '334914',\n",
       " '334915',\n",
       " '335097',\n",
       " '335432',\n",
       " '335677',\n",
       " '33638',\n",
       " '33638',\n",
       " '33638',\n",
       " '336439',\n",
       " '3410',\n",
       " '3411',\n",
       " '341826',\n",
       " '34218',\n",
       " '342441',\n",
       " '342684',\n",
       " '342712',\n",
       " '342826',\n",
       " '343095',\n",
       " '343120',\n",
       " '343271',\n",
       " '343275',\n",
       " '343276',\n",
       " '345364',\n",
       " '345498',\n",
       " '345501',\n",
       " '345572',\n",
       " '345572',\n",
       " '345763',\n",
       " '345763',\n",
       " '345764',\n",
       " '345764',\n",
       " '345765',\n",
       " '345767',\n",
       " '345768',\n",
       " '345769',\n",
       " '345770',\n",
       " '345771',\n",
       " '345773',\n",
       " '345773',\n",
       " '345773',\n",
       " '345774',\n",
       " '345775',\n",
       " '345777',\n",
       " '345778',\n",
       " '345779',\n",
       " '345780',\n",
       " '345781',\n",
       " '345783',\n",
       " '3460',\n",
       " '3470',\n",
       " '347054',\n",
       " '347054',\n",
       " '347060',\n",
       " '347061',\n",
       " '347062',\n",
       " '347063',\n",
       " '347064',\n",
       " '347065',\n",
       " '347066',\n",
       " '347067',\n",
       " '347068',\n",
       " '347069',\n",
       " '347070',\n",
       " '347071',\n",
       " '347072',\n",
       " '347072',\n",
       " '347073',\n",
       " '347074',\n",
       " '347075',\n",
       " '347076',\n",
       " '347077',\n",
       " '347077',\n",
       " '347077',\n",
       " '347077',\n",
       " '347077',\n",
       " '347077',\n",
       " '347077',\n",
       " '347078',\n",
       " '347079',\n",
       " '347080',\n",
       " '347080',\n",
       " '347080',\n",
       " '347081',\n",
       " '347082',\n",
       " '347082',\n",
       " '347082',\n",
       " '347082',\n",
       " '347082',\n",
       " '347082',\n",
       " '347082',\n",
       " '347083',\n",
       " '347085',\n",
       " '347086',\n",
       " '347087',\n",
       " '347088',\n",
       " '347088',\n",
       " '347088',\n",
       " '347088',\n",
       " '347088',\n",
       " '347088',\n",
       " '347089',\n",
       " '347090',\n",
       " '347091',\n",
       " '3474',\n",
       " '347464',\n",
       " '347465',\n",
       " '347466',\n",
       " '347467',\n",
       " '347468',\n",
       " '347469',\n",
       " '347470',\n",
       " '347471',\n",
       " '347742',\n",
       " '347742',\n",
       " '347742',\n",
       " '347743',\n",
       " '348121',\n",
       " '348122',\n",
       " '348123',\n",
       " '348124',\n",
       " '348125',\n",
       " '349201',\n",
       " '349202',\n",
       " '349203',\n",
       " '349204',\n",
       " '349205',\n",
       " '349206',\n",
       " '349207',\n",
       " '349208',\n",
       " '349209',\n",
       " '349210',\n",
       " '349211',\n",
       " '349212',\n",
       " '349213',\n",
       " '349214',\n",
       " '349215',\n",
       " '349216',\n",
       " '349217',\n",
       " '349218',\n",
       " '349219',\n",
       " '349220',\n",
       " '349221',\n",
       " '349222',\n",
       " '349223',\n",
       " '349224',\n",
       " '349225',\n",
       " '349226',\n",
       " '349227',\n",
       " '349228',\n",
       " '349229',\n",
       " '349230',\n",
       " '349231',\n",
       " '349232',\n",
       " '349233',\n",
       " '349234',\n",
       " '349235',\n",
       " '349236',\n",
       " '349237',\n",
       " '349237',\n",
       " '349238',\n",
       " '349239',\n",
       " '349240',\n",
       " '349241',\n",
       " '349242',\n",
       " '349243',\n",
       " '349244',\n",
       " '349245',\n",
       " '349246',\n",
       " '349247',\n",
       " '349248',\n",
       " '349249',\n",
       " '349250',\n",
       " '349251',\n",
       " '349252',\n",
       " '349253',\n",
       " '349254',\n",
       " '349255',\n",
       " '349256',\n",
       " '349256',\n",
       " '349257',\n",
       " '349909',\n",
       " '349909',\n",
       " '349909',\n",
       " '349909',\n",
       " '349909',\n",
       " '349910',\n",
       " '349910',\n",
       " '349911',\n",
       " '349912',\n",
       " '350025',\n",
       " '350026',\n",
       " '350026',\n",
       " '350029',\n",
       " '350033',\n",
       " '350034',\n",
       " '350035',\n",
       " '350036',\n",
       " '350042',\n",
       " '350043',\n",
       " '350045',\n",
       " '350046',\n",
       " '350047',\n",
       " '350048',\n",
       " '350050',\n",
       " '350052',\n",
       " '350053',\n",
       " '350054',\n",
       " '350060',\n",
       " '350403',\n",
       " '350404',\n",
       " '350405',\n",
       " '350405',\n",
       " '350406',\n",
       " '350407',\n",
       " '350408',\n",
       " '350409',\n",
       " '350410',\n",
       " '350416',\n",
       " '350417',\n",
       " '35273',\n",
       " '35273',\n",
       " '35273',\n",
       " '35281',\n",
       " '35281',\n",
       " '35851',\n",
       " '35852',\n",
       " '358585',\n",
       " '358585',\n",
       " '359306',\n",
       " '359309',\n",
       " '36209',\n",
       " '362316',\n",
       " '363272',\n",
       " '363291',\n",
       " '363291',\n",
       " '363291',\n",
       " '363294',\n",
       " '363592',\n",
       " '363611',\n",
       " '364498',\n",
       " '364498',\n",
       " '364499',\n",
       " '364500',\n",
       " '364506',\n",
       " '364511',\n",
       " '364512',\n",
       " '364516',\n",
       " '364516',\n",
       " '364846',\n",
       " '364848',\n",
       " '364849',\n",
       " '364849',\n",
       " '364850',\n",
       " '364851',\n",
       " '364856',\n",
       " '364858',\n",
       " '364859',\n",
       " '365222',\n",
       " '365226',\n",
       " '365235',\n",
       " '365237',\n",
       " '36568',\n",
       " '36568',\n",
       " '366713',\n",
       " '367226',\n",
       " '367226',\n",
       " '367226',\n",
       " '367227',\n",
       " '367228',\n",
       " '367229',\n",
       " '367230',\n",
       " '367230',\n",
       " '367231',\n",
       " '367232',\n",
       " '367655',\n",
       " '368323',\n",
       " '368364',\n",
       " '368402',\n",
       " '368573',\n",
       " '36864',\n",
       " '36865',\n",
       " '36866',\n",
       " '368702',\n",
       " '368703',\n",
       " '368783',\n",
       " '36928',\n",
       " '36928',\n",
       " '36928',\n",
       " '36928',\n",
       " '36947',\n",
       " '36947',\n",
       " '36963',\n",
       " '36967',\n",
       " '36973',\n",
       " '36973',\n",
       " '3701',\n",
       " '370129',\n",
       " '370129',\n",
       " '370129',\n",
       " '370365',\n",
       " '370365',\n",
       " '370368',\n",
       " '370369',\n",
       " '370370',\n",
       " '370371',\n",
       " '370371',\n",
       " '370372',\n",
       " '370373',\n",
       " '370374',\n",
       " '370375',\n",
       " '370376',\n",
       " '370377',\n",
       " '371060',\n",
       " '371109',\n",
       " '371110',\n",
       " '371110',\n",
       " '371110',\n",
       " '371362',\n",
       " '371362',\n",
       " '372622',\n",
       " '373450',\n",
       " '374746',\n",
       " '374887',\n",
       " '374910',\n",
       " '376563',\n",
       " '376564',\n",
       " '376564',\n",
       " '376566',\n",
       " '376566',\n",
       " '382649',\n",
       " '382650',\n",
       " '382651',\n",
       " '382652',\n",
       " '382652',\n",
       " '382652',\n",
       " '382652',\n",
       " '382652',\n",
       " '382652',\n",
       " '382653',\n",
       " '383121',\n",
       " '383123',\n",
       " '383162',\n",
       " '384461',\n",
       " '386525',\n",
       " '386525',\n",
       " '392091',\n",
       " '392091',\n",
       " '392092',\n",
       " '392095',\n",
       " '392096',\n",
       " '392096',\n",
       " '394140',\n",
       " '4133',\n",
       " '4133',\n",
       " '4133',\n",
       " '4133',\n",
       " '4133',\n",
       " '4134',\n",
       " '4135',\n",
       " '4136',\n",
       " '4137',\n",
       " '4138',\n",
       " '4579',\n",
       " '54636',\n",
       " '54636',\n",
       " '5727',\n",
       " '65303',\n",
       " '65304',\n",
       " '65305',\n",
       " '65306',\n",
       " '6563',\n",
       " '680',\n",
       " '693',\n",
       " '694',\n",
       " '695',\n",
       " '7266',\n",
       " '7267',\n",
       " '7534',\n",
       " '7534',\n",
       " '7538',\n",
       " '7540',\n",
       " '7545',\n",
       " '7546',\n",
       " '7548',\n",
       " '7552',\n",
       " '7553',\n",
       " '7598',\n",
       " '7935',\n",
       " '8471',\n",
       " '8475',\n",
       " '9232',\n",
       " '9234',\n",
       " 'A. 2. 39186',\n",
       " 'A./5. 2152',\n",
       " 'A./5. 3235',\n",
       " 'A./5. 3338',\n",
       " 'A.5. 11206',\n",
       " 'A.5. 18509',\n",
       " 'A.5. 3236',\n",
       " 'A/4 31416',\n",
       " 'A/4 45380',\n",
       " 'A/4 48871',\n",
       " 'A/4 48871',\n",
       " 'A/4 48871',\n",
       " 'A/4 48873',\n",
       " 'A/4. 20589',\n",
       " 'A/4. 34244',\n",
       " 'A/4. 39886',\n",
       " 'A/5 1478',\n",
       " 'A/5 21171',\n",
       " 'A/5 21172',\n",
       " 'A/5 21173',\n",
       " 'A/5 21174',\n",
       " 'A/5 21175',\n",
       " 'A/5 2466',\n",
       " 'A/5 2817',\n",
       " 'A/5 3536',\n",
       " 'A/5 3540',\n",
       " 'A/5 3594',\n",
       " 'A/5 3902',\n",
       " 'A/5. 10482',\n",
       " 'A/5. 13032',\n",
       " 'A/5. 2151',\n",
       " 'A/5. 3336',\n",
       " 'A/5. 3336',\n",
       " 'A/5. 3337',\n",
       " 'A/5. 3337',\n",
       " 'A/5. 851',\n",
       " 'A/5. 851',\n",
       " 'A/5. 851',\n",
       " 'A/S 2816',\n",
       " 'A4. 54510',\n",
       " 'AQ/3. 30631',\n",
       " 'AQ/4 3130',\n",
       " 'C 17368',\n",
       " 'C 17369',\n",
       " 'C 4001',\n",
       " ...]"
      ]
     },
     "execution_count": 28,
     "metadata": {},
     "output_type": "execute_result"
    }
   ],
   "source": [
    "#explore the ticket column\n",
    "#print(f'Unique ticket values: {alldata[TICKET].nunique()}/{alldata.shape[0]}')\n",
    "#alldata[TICKET].value_counts()\n",
    "sorted(alldata[TICKET])\n",
    "#alldata[TICKET].head(n=20)"
   ]
  },
  {
   "cell_type": "code",
   "execution_count": 29,
   "metadata": {
    "execution": {
     "iopub.execute_input": "2021-02-13T11:39:18.031596Z",
     "iopub.status.busy": "2021-02-13T11:39:18.030845Z",
     "iopub.status.idle": "2021-02-13T11:39:18.035254Z",
     "shell.execute_reply": "2021-02-13T11:39:18.035744Z"
    },
    "papermill": {
     "duration": 0.067626,
     "end_time": "2021-02-13T11:39:18.035963",
     "exception": false,
     "start_time": "2021-02-13T11:39:17.968337",
     "status": "completed"
    },
    "tags": []
   },
   "outputs": [
    {
     "data": {
      "text/plain": [
       "array(['A', 'P', 'S', '1', '3', '2', 'C', '7', 'W', '4', 'F', 'L', '9',\n",
       "       '6', '5', '8'], dtype=object)"
      ]
     },
     "execution_count": 29,
     "metadata": {},
     "output_type": "execute_result"
    }
   ],
   "source": [
    "#try to group by prefix (up to 2 first chars)\n",
    "ticket_prefix = alldata[TICKET].apply(lambda ticket: ticket.split()[0][:1])  # currently 1 char. TODO: Try 2\n",
    "ticket_prefix.unique()"
   ]
  },
  {
   "cell_type": "code",
   "execution_count": 30,
   "metadata": {
    "execution": {
     "iopub.execute_input": "2021-02-13T11:39:18.172326Z",
     "iopub.status.busy": "2021-02-13T11:39:18.165343Z",
     "iopub.status.idle": "2021-02-13T11:39:19.598364Z",
     "shell.execute_reply": "2021-02-13T11:39:19.597754Z"
    },
    "papermill": {
     "duration": 1.509695,
     "end_time": "2021-02-13T11:39:19.598518",
     "exception": false,
     "start_time": "2021-02-13T11:39:18.088823",
     "status": "completed"
    },
    "tags": []
   },
   "outputs": [
    {
     "name": "stdout",
     "output_type": "stream",
     "text": [
      "3    429\n",
      "2    278\n",
      "1    208\n",
      "P     98\n",
      "S     98\n",
      "C     77\n",
      "A     42\n",
      "W     19\n",
      "7     13\n",
      "F     13\n",
      "4     11\n",
      "6      9\n",
      "L      5\n",
      "5      3\n",
      "9      2\n",
      "8      2\n",
      "Name: Ticket, dtype: int64\n"
     ]
    },
    {
     "data": {
      "image/png": "[encoded data removed]",
      "text/plain": [
       "<Figure size 1440x432 with 1 Axes>"
      ]
     },
     "metadata": {},
     "output_type": "display_data"
    }
   ],
   "source": [
    "# see if there's any correlation with SURVIVAL\n",
    "print(ticket_prefix.value_counts())\n",
    "temp_df = pd.DataFrame()\n",
    "temp_df[TICKET_PREFIX] = ticket_prefix\n",
    "temp_df['TicketPrefixCount'] = ticket_prefix.apply(lambda ticket: ticket_prefix[ticket_prefix == ticket].shape[0])\n",
    "temp_df[LABEL] = alldata[LABEL]\n",
    "temp_df.dropna(inplace=True)  # drop the test rows...\n",
    "g = sns.barplot(x=TICKET_PREFIX, y=LABEL, data=temp_df)\n",
    "\n",
    "# conclusion: there's some correlation. some letters survive significantly less than others."
   ]
  },
  {
   "cell_type": "code",
   "execution_count": 31,
   "metadata": {
    "execution": {
     "iopub.execute_input": "2021-02-13T11:39:19.714274Z",
     "iopub.status.busy": "2021-02-13T11:39:19.713553Z",
     "iopub.status.idle": "2021-02-13T11:39:19.717232Z",
     "shell.execute_reply": "2021-02-13T11:39:19.716681Z"
    },
    "papermill": {
     "duration": 0.064945,
     "end_time": "2021-02-13T11:39:19.717402",
     "exception": false,
     "start_time": "2021-02-13T11:39:19.652457",
     "status": "completed"
    },
    "tags": []
   },
   "outputs": [],
   "source": [
    "#add the ticket prefix column, and drop the ticker column\n",
    "alldata[TICKET_PREFIX] = ticket_prefix\n",
    "alldata.drop([TICKET], axis=1, inplace=True)"
   ]
  },
  {
   "cell_type": "code",
   "execution_count": 32,
   "metadata": {
    "execution": {
     "iopub.execute_input": "2021-02-13T11:39:19.835823Z",
     "iopub.status.busy": "2021-02-13T11:39:19.835026Z",
     "iopub.status.idle": "2021-02-13T11:39:19.838862Z",
     "shell.execute_reply": "2021-02-13T11:39:19.838332Z"
    },
    "papermill": {
     "duration": 0.067287,
     "end_time": "2021-02-13T11:39:19.839041",
     "exception": false,
     "start_time": "2021-02-13T11:39:19.771754",
     "status": "completed"
    },
    "tags": []
   },
   "outputs": [],
   "source": [
    "# add more features\n",
    "\n",
    "# family size\n",
    "alldata[FAMILY_SIZE] = alldata[SIBLINGS] + alldata[PARENTS] + 1  # 1 is the person themselves\n",
    "\n",
    "# fare per person\n",
    "# extract family name\n",
    "#surname = alldata[NAME].apply(lambda full_name: full_name.split()[0])\n",
    "#alldata[TOTAL_FAM_FARE] = alldata.apply(lambda row: alldata.loc[(alldata[NAME].str.len() > 0) & (alldata[NAME].str.split().str[0] == row[NAME].split()[0]), FARE].sum() , axis=1)\n",
    "#TURNS OUT ALL FAM MEMBERS HAVE EXACT SAME FARE! SO NO POINT IN TAKING AVG PER FAM MEMBER\n",
    "\n",
    "# drop name column, we don't need it anymore\n",
    "alldata.drop([NAME], axis=1, inplace=True)"
   ]
  },
  {
   "cell_type": "code",
   "execution_count": 33,
   "metadata": {
    "execution": {
     "iopub.execute_input": "2021-02-13T11:39:19.957954Z",
     "iopub.status.busy": "2021-02-13T11:39:19.957275Z",
     "iopub.status.idle": "2021-02-13T11:39:19.960694Z",
     "shell.execute_reply": "2021-02-13T11:39:19.959811Z"
    },
    "papermill": {
     "duration": 0.067268,
     "end_time": "2021-02-13T11:39:19.960886",
     "exception": false,
     "start_time": "2021-02-13T11:39:19.893618",
     "status": "completed"
    },
    "tags": []
   },
   "outputs": [],
   "source": [
    "# drop the id column, we don't need it\n",
    "alldata.drop([PID], axis=1, inplace=True)"
   ]
  },
  {
   "cell_type": "code",
   "execution_count": 34,
   "metadata": {
    "execution": {
     "iopub.execute_input": "2021-02-13T11:39:20.104394Z",
     "iopub.status.busy": "2021-02-13T11:39:20.086237Z",
     "iopub.status.idle": "2021-02-13T11:39:20.459464Z",
     "shell.execute_reply": "2021-02-13T11:39:20.458401Z"
    },
    "papermill": {
     "duration": 0.443454,
     "end_time": "2021-02-13T11:39:20.459635",
     "exception": false,
     "start_time": "2021-02-13T11:39:20.016181",
     "status": "completed"
    },
    "tags": []
   },
   "outputs": [
    {
     "data": {
      "image/png": "[encoded data removed]",
      "text/plain": [
       "<Figure size 360x360 with 1 Axes>"
      ]
     },
     "metadata": {},
     "output_type": "display_data"
    }
   ],
   "source": [
    "# let's visualize how each feature correlates with the SURVIVAL label independently, just to get a taste\n",
    "\n",
    "# PCLASS\n",
    "g = sns.catplot(x=PCLASS, y=LABEL, data=alldata.iloc[:training.shape[0]], kind='bar')\n",
    "\n",
    "# conclusion: the lower the class, the higher the survival. so that's a good feature.\n",
    "# we saw previously that class 3 belongs mostly to older people, which means 1 and 2 belong mostly to younger people,\n",
    "# which have higher survival chance (\"women and children first\")"
   ]
  },
  {
   "cell_type": "code",
   "execution_count": 35,
   "metadata": {
    "execution": {
     "iopub.execute_input": "2021-02-13T11:39:20.580730Z",
     "iopub.status.busy": "2021-02-13T11:39:20.580001Z",
     "iopub.status.idle": "2021-02-13T11:39:20.901185Z",
     "shell.execute_reply": "2021-02-13T11:39:20.901805Z"
    },
    "papermill": {
     "duration": 0.386211,
     "end_time": "2021-02-13T11:39:20.902003",
     "exception": false,
     "start_time": "2021-02-13T11:39:20.515792",
     "status": "completed"
    },
    "tags": []
   },
   "outputs": [
    {
     "data": {
      "image/png": "[encoded data removed]",
      "text/plain": [
       "<Figure size 360x360 with 1 Axes>"
      ]
     },
     "metadata": {},
     "output_type": "display_data"
    }
   ],
   "source": [
    "# GENDER\n",
    "g = sns.catplot(x=GENDER, y=LABEL, data=alldata.iloc[:training.shape[0]], kind='bar')\n",
    "\n",
    "#conclusion: gender is very indicative. \"Women and children first\""
   ]
  },
  {
   "cell_type": "code",
   "execution_count": 36,
   "metadata": {
    "execution": {
     "iopub.execute_input": "2021-02-13T11:39:21.020312Z",
     "iopub.status.busy": "2021-02-13T11:39:21.019490Z",
     "iopub.status.idle": "2021-02-13T11:39:21.379232Z",
     "shell.execute_reply": "2021-02-13T11:39:21.379797Z"
    },
    "papermill": {
     "duration": 0.419892,
     "end_time": "2021-02-13T11:39:21.380005",
     "exception": false,
     "start_time": "2021-02-13T11:39:20.960113",
     "status": "completed"
    },
    "tags": []
   },
   "outputs": [
    {
     "data": {
      "image/png": "[encoded data removed]",
      "text/plain": [
       "<Figure size 360x360 with 1 Axes>"
      ]
     },
     "metadata": {},
     "output_type": "display_data"
    }
   ],
   "source": [
    "# EMBARKED\n",
    "g = sns.catplot(x=EMBARKED, y=LABEL, data=alldata.iloc[:training.shape[0]], kind='bar')\n",
    "\n",
    "# conclusion: S has low survival rate"
   ]
  },
  {
   "cell_type": "code",
   "execution_count": 37,
   "metadata": {
    "execution": {
     "iopub.execute_input": "2021-02-13T11:39:21.501183Z",
     "iopub.status.busy": "2021-02-13T11:39:21.500356Z",
     "iopub.status.idle": "2021-02-13T11:39:22.065720Z",
     "shell.execute_reply": "2021-02-13T11:39:22.064925Z"
    },
    "papermill": {
     "duration": 0.62599,
     "end_time": "2021-02-13T11:39:22.065870",
     "exception": false,
     "start_time": "2021-02-13T11:39:21.439880",
     "status": "completed"
    },
    "tags": []
   },
   "outputs": [
    {
     "data": {
      "image/png": "[encoded data removed]",
      "text/plain": [
       "<Figure size 360x360 with 1 Axes>"
      ]
     },
     "metadata": {},
     "output_type": "display_data"
    }
   ],
   "source": [
    "# SIBLINGS\n",
    "g = sns.catplot(x=SIBLINGS, y=LABEL, data=training, kind='point')\n",
    "\n",
    "#conclusion: 0 or >=3 siblings have low chance of survival"
   ]
  },
  {
   "cell_type": "code",
   "execution_count": 38,
   "metadata": {
    "execution": {
     "iopub.execute_input": "2021-02-13T11:39:22.204777Z",
     "iopub.status.busy": "2021-02-13T11:39:22.191660Z",
     "iopub.status.idle": "2021-02-13T11:39:22.710817Z",
     "shell.execute_reply": "2021-02-13T11:39:22.710255Z"
    },
    "papermill": {
     "duration": 0.585895,
     "end_time": "2021-02-13T11:39:22.710985",
     "exception": false,
     "start_time": "2021-02-13T11:39:22.125090",
     "status": "completed"
    },
    "tags": []
   },
   "outputs": [
    {
     "data": {
      "image/png": "[encoded data removed]",
      "text/plain": [
       "<Figure size 360x360 with 1 Axes>"
      ]
     },
     "metadata": {},
     "output_type": "display_data"
    }
   ],
   "source": [
    "# PARENTS\n",
    "g = sns.catplot(x=PARENTS, y=LABEL, data=training, kind='point')\n",
    "\n",
    "#conclusion: 0 or >=4 parents have low chance of survival"
   ]
  },
  {
   "cell_type": "code",
   "execution_count": 39,
   "metadata": {
    "execution": {
     "iopub.execute_input": "2021-02-13T11:39:22.836976Z",
     "iopub.status.busy": "2021-02-13T11:39:22.836295Z",
     "iopub.status.idle": "2021-02-13T11:39:23.502467Z",
     "shell.execute_reply": "2021-02-13T11:39:23.502995Z"
    },
    "papermill": {
     "duration": 0.733456,
     "end_time": "2021-02-13T11:39:23.503200",
     "exception": false,
     "start_time": "2021-02-13T11:39:22.769744",
     "status": "completed"
    },
    "tags": []
   },
   "outputs": [
    {
     "data": {
      "image/png": "[encoded data removed]",
      "text/plain": [
       "<Figure size 360x360 with 1 Axes>"
      ]
     },
     "metadata": {},
     "output_type": "display_data"
    }
   ],
   "source": [
    "# FAM SIZE (saved it earlier)\n",
    "g = sns.catplot(x=FAMILY_SIZE, y=LABEL, data=(fam_size_backup_df.iloc[:training.shape[0]]), kind='point')\n",
    "\n",
    "# conclusion: fam size 1 and >=5 have low chance of survival, fam size 4 have a significantly higher chance"
   ]
  },
  {
   "cell_type": "code",
   "execution_count": 40,
   "metadata": {
    "execution": {
     "iopub.execute_input": "2021-02-13T11:39:23.633502Z",
     "iopub.status.busy": "2021-02-13T11:39:23.632455Z",
     "iopub.status.idle": "2021-02-13T11:39:23.934690Z",
     "shell.execute_reply": "2021-02-13T11:39:23.935188Z"
    },
    "papermill": {
     "duration": 0.370515,
     "end_time": "2021-02-13T11:39:23.935370",
     "exception": false,
     "start_time": "2021-02-13T11:39:23.564855",
     "status": "completed"
    },
    "tags": []
   },
   "outputs": [
    {
     "data": {
      "image/png": "[encoded data removed]",
      "text/plain": [
       "<Figure size 360x360 with 1 Axes>"
      ]
     },
     "metadata": {},
     "output_type": "display_data"
    }
   ],
   "source": [
    "# AGE\n",
    "g = sns.catplot(x=LABEL, y=AGE, data=alldata.iloc[:training.shape[0]], kind='violin')\n",
    "\n",
    "# conclusion: most children survived. \"women and children first\"\n",
    "# and most of mid age (~30) didn't survive"
   ]
  },
  {
   "cell_type": "code",
   "execution_count": 41,
   "metadata": {
    "execution": {
     "iopub.execute_input": "2021-02-13T11:39:24.067084Z",
     "iopub.status.busy": "2021-02-13T11:39:24.066410Z",
     "iopub.status.idle": "2021-02-13T11:39:24.083600Z",
     "shell.execute_reply": "2021-02-13T11:39:24.084100Z"
    },
    "papermill": {
     "duration": 0.087438,
     "end_time": "2021-02-13T11:39:24.084284",
     "exception": false,
     "start_time": "2021-02-13T11:39:23.996846",
     "status": "completed"
    },
    "tags": []
   },
   "outputs": [
    {
     "name": "stdout",
     "output_type": "stream",
     "text": [
      "Ratio of children who survived: 0.5915492957746479\n",
      "Ratio of adults who survived: 0.3837753510140406\n",
      "Ratio of mid age who survived: 0.3551020408163265\n"
     ]
    }
   ],
   "source": [
    "# AGE\n",
    "young = training.loc[training[AGE] <= 13, [AGE, LABEL]]\n",
    "midage = training.loc[(20 <= training[AGE]) & (training[AGE] <= 30), [AGE, LABEL]]\n",
    "old = training.loc[training[AGE] > 13, [AGE, LABEL]]\n",
    "print(f'Ratio of children who survived: {young.loc[young[LABEL] == 1, LABEL].sum() / young.shape[0]}')\n",
    "print(f'Ratio of adults who survived: {old.loc[old[LABEL] == 1, LABEL].sum() / old.shape[0]}')\n",
    "print(f'Ratio of mid age who survived: {midage.loc[midage[LABEL] == 1, LABEL].sum() / midage.shape[0]}')"
   ]
  },
  {
   "cell_type": "code",
   "execution_count": 42,
   "metadata": {
    "execution": {
     "iopub.execute_input": "2021-02-13T11:39:24.219746Z",
     "iopub.status.busy": "2021-02-13T11:39:24.218896Z",
     "iopub.status.idle": "2021-02-13T11:39:24.519984Z",
     "shell.execute_reply": "2021-02-13T11:39:24.520557Z"
    },
    "papermill": {
     "duration": 0.372602,
     "end_time": "2021-02-13T11:39:24.520739",
     "exception": false,
     "start_time": "2021-02-13T11:39:24.148137",
     "status": "completed"
    },
    "tags": []
   },
   "outputs": [
    {
     "data": {
      "image/png": "[encoded data removed]",
      "text/plain": [
       "<Figure size 360x360 with 1 Axes>"
      ]
     },
     "metadata": {},
     "output_type": "display_data"
    }
   ],
   "source": [
    "# FARE\n",
    "g = sns.catplot(x=LABEL, y=FARE, data=alldata.iloc[:training.shape[0]], kind='violin')\n",
    "\n",
    "# conclusion: most low fare didn't survive"
   ]
  },
  {
   "cell_type": "code",
   "execution_count": 43,
   "metadata": {
    "execution": {
     "iopub.execute_input": "2021-02-13T11:39:24.664234Z",
     "iopub.status.busy": "2021-02-13T11:39:24.663406Z",
     "iopub.status.idle": "2021-02-13T11:39:24.667040Z",
     "shell.execute_reply": "2021-02-13T11:39:24.666499Z"
    },
    "papermill": {
     "duration": 0.081565,
     "end_time": "2021-02-13T11:39:24.667187",
     "exception": false,
     "start_time": "2021-02-13T11:39:24.585622",
     "status": "completed"
    },
    "tags": []
   },
   "outputs": [
    {
     "name": "stdout",
     "output_type": "stream",
     "text": [
      "Ratio of low fare who survived: 0.2702169625246548\n",
      "Ratio of high fare who survived: 0.5314136125654451\n"
     ]
    }
   ],
   "source": [
    "# FARE\n",
    "temp = alldata.iloc[:training.shape[0]].copy()\n",
    "low_fare = temp.loc[temp[FARE] < 3, [FARE, LABEL]]\n",
    "high_fare = temp.loc[temp[FARE] >= 3, [FARE, LABEL]]\n",
    "print(f'Ratio of low fare who survived: {low_fare.loc[low_fare[LABEL] == 1, LABEL].sum() / low_fare.shape[0]}')\n",
    "print(f'Ratio of high fare who survived: {high_fare.loc[high_fare[LABEL] == 1, LABEL].sum() / high_fare.shape[0]}')\n"
   ]
  },
  {
   "cell_type": "code",
   "execution_count": 44,
   "metadata": {
    "execution": {
     "iopub.execute_input": "2021-02-13T11:39:24.811266Z",
     "iopub.status.busy": "2021-02-13T11:39:24.810602Z",
     "iopub.status.idle": "2021-02-13T11:39:24.827349Z",
     "shell.execute_reply": "2021-02-13T11:39:24.826685Z"
    },
    "papermill": {
     "duration": 0.09121,
     "end_time": "2021-02-13T11:39:24.827500",
     "exception": false,
     "start_time": "2021-02-13T11:39:24.736290",
     "status": "completed"
    },
    "tags": []
   },
   "outputs": [],
   "source": [
    "# Prepare data for prediction\n",
    "\n",
    "y_train = alldata.iloc[:training.shape[0]][LABEL].astype(int)\n",
    "\n",
    "features = [PCLASS, TITLE, GENDER, AGE, SIBLINGS, PARENTS, FAMILY_SIZE, TICKET_PREFIX, FARE, DECK, EMBARKED]\n",
    "alldata = pd.get_dummies(alldata[features])\n",
    "\n",
    "X_train = alldata.iloc[:training.shape[0]]\n",
    "X_test = alldata.iloc[training.shape[0]:]"
   ]
  },
  {
   "cell_type": "code",
   "execution_count": 45,
   "metadata": {
    "execution": {
     "iopub.execute_input": "2021-02-13T11:39:24.970856Z",
     "iopub.status.busy": "2021-02-13T11:39:24.970183Z",
     "iopub.status.idle": "2021-02-13T11:39:27.852148Z",
     "shell.execute_reply": "2021-02-13T11:39:27.852878Z"
    },
    "papermill": {
     "duration": 2.958863,
     "end_time": "2021-02-13T11:39:27.853112",
     "exception": false,
     "start_time": "2021-02-13T11:39:24.894249",
     "status": "completed"
    },
    "tags": []
   },
   "outputs": [
    {
     "name": "stdout",
     "output_type": "stream",
     "text": [
      "RandomForestClassifier\n",
      "Cross validation scores: [0.83146067 0.8258427  0.8258427  0.7752809  0.85310734]\n",
      "Cross validation avg score: 0.8223068621849807\n",
      "\n",
      "SVC\n",
      "Cross validation scores: [0.67977528 0.75842697 0.71910112 0.73595506 0.76271186]\n",
      "Cross validation avg score: 0.7311940582746143\n",
      "\n",
      "KNeighborsClassifier\n",
      "Cross validation scores: [0.74719101 0.79213483 0.7752809  0.79775281 0.83050847]\n",
      "Cross validation avg score: 0.7885736050276138\n",
      "\n",
      "XGBClassifier\n",
      "[11:39:27] WARNING: ../src/learner.cc:1061: Starting in XGBoost 1.3.0, the default evaluation metric used with the objective 'binary:logistic' was changed from 'error' to 'logloss'. Explicitly set eval_metric if you'd like to restore the old behavior.\n",
      "[11:39:27] WARNING: ../src/learner.cc:1061: Starting in XGBoost 1.3.0, the default evaluation metric used with the objective 'binary:logistic' was changed from 'error' to 'logloss'. Explicitly set eval_metric if you'd like to restore the old behavior.\n",
      "[11:39:27] WARNING: ../src/learner.cc:1061: Starting in XGBoost 1.3.0, the default evaluation metric used with the objective 'binary:logistic' was changed from 'error' to 'logloss'. Explicitly set eval_metric if you'd like to restore the old behavior.\n",
      "[11:39:27] WARNING: ../src/learner.cc:1061: Starting in XGBoost 1.3.0, the default evaluation metric used with the objective 'binary:logistic' was changed from 'error' to 'logloss'. Explicitly set eval_metric if you'd like to restore the old behavior.\n",
      "[11:39:27] WARNING: ../src/learner.cc:1061: Starting in XGBoost 1.3.0, the default evaluation metric used with the objective 'binary:logistic' was changed from 'error' to 'logloss'. Explicitly set eval_metric if you'd like to restore the old behavior.\n",
      "Cross validation scores: [0.82022472 0.81460674 0.86516854 0.80898876 0.85310734]\n",
      "Cross validation avg score: 0.8324192217355424\n",
      "\n"
     ]
    }
   ],
   "source": [
    "# Classifiers\n",
    "\n",
    "rf = RandomForestClassifier(n_estimators=100, max_depth=5, random_state=1)\n",
    "svm = SVC(probability = True)\n",
    "knn = KNeighborsClassifier()\n",
    "\n",
    "from sklearn.model_selection import train_test_split\n",
    "from sklearn.metrics import accuracy_score\n",
    "from xgboost import XGBClassifier\n",
    "xgb_train_X, xgb_val_X, xgb_train_y, xgb_val_y = train_test_split(X_train, y_train, random_state=1)\n",
    "#xgb = XGBClassifier(n_estimators=500, use_label_encoder=False)\n",
    "#xgb.fit(xgb_train_X, xgb_train_y, early_stopping_rounds=5, eval_set=[(xgb_val_X, xgb_val_y)], verbose=True)  # => stops after 20 iterations\n",
    "#print('XGBClassifier')\n",
    "#print(accuracy_score(xgb_val_y, xgb.predict(xgb_val_X)))\n",
    "#print('')\n",
    "xgb = XGBClassifier(n_estimators=20, use_label_encoder=False)\n",
    "\n",
    "clfs = [rf, svm, knn, xgb]\n",
    "for clf in clfs:\n",
    "    print(clf.__class__.__name__)\n",
    "    cv = cross_val_score(clf, X_train, y_train, cv=5)\n",
    "    print(f'Cross validation scores: {cv}')\n",
    "    print(f'Cross validation avg score: {cv.mean()}')\n",
    "    print('')"
   ]
  },
  {
   "cell_type": "code",
   "execution_count": 46,
   "metadata": {
    "execution": {
     "iopub.execute_input": "2021-02-13T11:39:27.991121Z",
     "iopub.status.busy": "2021-02-13T11:39:27.990458Z",
     "iopub.status.idle": "2021-02-13T11:39:27.994099Z",
     "shell.execute_reply": "2021-02-13T11:39:27.993359Z"
    },
    "papermill": {
     "duration": 0.07359,
     "end_time": "2021-02-13T11:39:27.994278",
     "exception": false,
     "start_time": "2021-02-13T11:39:27.920688",
     "status": "completed"
    },
    "tags": []
   },
   "outputs": [],
   "source": [
    "# Parameter tuning"
   ]
  },
  {
   "cell_type": "code",
   "execution_count": 47,
   "metadata": {
    "execution": {
     "iopub.execute_input": "2021-02-13T11:39:28.132784Z",
     "iopub.status.busy": "2021-02-13T11:39:28.132092Z",
     "iopub.status.idle": "2021-02-13T11:40:18.094008Z",
     "shell.execute_reply": "2021-02-13T11:40:18.094603Z"
    },
    "papermill": {
     "duration": 50.035542,
     "end_time": "2021-02-13T11:40:18.094812",
     "exception": false,
     "start_time": "2021-02-13T11:39:28.059270",
     "status": "completed"
    },
    "tags": []
   },
   "outputs": [
    {
     "data": {
      "text/plain": [
       "0.836926299752428"
      ]
     },
     "execution_count": 47,
     "metadata": {},
     "output_type": "execute_result"
    }
   ],
   "source": [
    "# RF tuning\n",
    "RFC = RandomForestClassifier()\n",
    "\n",
    "\n",
    "## Search grid for optimal parameters\n",
    "rf_param_grid = {\"max_features\": ['auto', 'log2', None],\n",
    "                 \"min_samples_split\": [2, 3, 10],\n",
    "                 \"min_samples_leaf\": [1, 3, 10],\n",
    "                 \"n_estimators\" :[10, 100, 200]}\n",
    "\n",
    "gsRFC = GridSearchCV(RFC, param_grid=rf_param_grid, cv=5, scoring='accuracy', n_jobs=4)\n",
    "\n",
    "gsRFC.fit(X_train, y_train)\n",
    "\n",
    "RFC_best = gsRFC.best_estimator_\n",
    "\n",
    "# Best score\n",
    "gsRFC.best_score_"
   ]
  },
  {
   "cell_type": "code",
   "execution_count": 48,
   "metadata": {
    "execution": {
     "iopub.execute_input": "2021-02-13T11:40:18.267307Z",
     "iopub.status.busy": "2021-02-13T11:40:18.266445Z",
     "iopub.status.idle": "2021-02-13T11:40:18.272367Z",
     "shell.execute_reply": "2021-02-13T11:40:18.272982Z"
    },
    "papermill": {
     "duration": 0.094299,
     "end_time": "2021-02-13T11:40:18.273188",
     "exception": false,
     "start_time": "2021-02-13T11:40:18.178889",
     "status": "completed"
    },
    "tags": []
   },
   "outputs": [],
   "source": [
    "clfs.append(RFC_best)"
   ]
  },
  {
   "cell_type": "code",
   "execution_count": 49,
   "metadata": {
    "execution": {
     "iopub.execute_input": "2021-02-13T11:40:18.428924Z",
     "iopub.status.busy": "2021-02-13T11:40:18.427510Z",
     "iopub.status.idle": "2021-02-13T11:40:19.795848Z",
     "shell.execute_reply": "2021-02-13T11:40:19.795155Z"
    },
    "papermill": {
     "duration": 1.448602,
     "end_time": "2021-02-13T11:40:19.796048",
     "exception": false,
     "start_time": "2021-02-13T11:40:18.347446",
     "status": "completed"
    },
    "tags": []
   },
   "outputs": [
    {
     "name": "stdout",
     "output_type": "stream",
     "text": [
      "[11:40:19] WARNING: ../src/learner.cc:1061: Starting in XGBoost 1.3.0, the default evaluation metric used with the objective 'binary:logistic' was changed from 'error' to 'logloss'. Explicitly set eval_metric if you'd like to restore the old behavior.\n"
     ]
    }
   ],
   "source": [
    "# fit on all the data\n",
    "for clf in clfs:\n",
    "    clf.fit(X_train, y_train)"
   ]
  },
  {
   "cell_type": "code",
   "execution_count": 50,
   "metadata": {
    "execution": {
     "iopub.execute_input": "2021-02-13T11:40:19.944997Z",
     "iopub.status.busy": "2021-02-13T11:40:19.944229Z",
     "iopub.status.idle": "2021-02-13T11:40:20.350457Z",
     "shell.execute_reply": "2021-02-13T11:40:20.349881Z"
    },
    "papermill": {
     "duration": 0.487232,
     "end_time": "2021-02-13T11:40:20.350609",
     "exception": false,
     "start_time": "2021-02-13T11:40:19.863377",
     "status": "completed"
    },
    "tags": []
   },
   "outputs": [
    {
     "data": {
      "text/plain": [
       "<AxesSubplot:>"
      ]
     },
     "execution_count": 50,
     "metadata": {},
     "output_type": "execute_result"
    },
    {
     "data": {
      "image/png": "[encoded data removed]",
      "text/plain": [
       "<Figure size 1440x432 with 1 Axes>"
      ]
     },
     "metadata": {},
     "output_type": "display_data"
    }
   ],
   "source": [
    "# visualize best features (RF only)\n",
    "feat_importances = pd.Series(rf.feature_importances_, index=X_train.columns)\n",
    "feat_importances.nlargest(20).plot(kind='barh')"
   ]
  },
  {
   "cell_type": "code",
   "execution_count": 51,
   "metadata": {
    "execution": {
     "iopub.execute_input": "2021-02-13T11:40:20.492253Z",
     "iopub.status.busy": "2021-02-13T11:40:20.488779Z",
     "iopub.status.idle": "2021-02-13T11:40:23.428366Z",
     "shell.execute_reply": "2021-02-13T11:40:23.429570Z"
    },
    "papermill": {
     "duration": 3.011249,
     "end_time": "2021-02-13T11:40:23.429858",
     "exception": false,
     "start_time": "2021-02-13T11:40:20.418609",
     "status": "completed"
    },
    "tags": []
   },
   "outputs": [
    {
     "name": "stdout",
     "output_type": "stream",
     "text": [
      "Ensemble:\n",
      "[0.78089888 0.81460674 0.81460674 0.79775281 0.85875706]\n",
      "0.8133244461372436\n"
     ]
    }
   ],
   "source": [
    "# ensemble\n",
    "voting_clf = VotingClassifier(estimators = [('knn',knn),('rf',rf), ('svm',svm)], voting = 'soft') \n",
    "cv = cross_val_score(voting_clf, X_train, y_train, cv=5)\n",
    "voting_clf.fit(X_train, y_train)\n",
    "print('Ensemble:')\n",
    "print(cv)\n",
    "print(cv.mean())"
   ]
  },
  {
   "cell_type": "code",
   "execution_count": 52,
   "metadata": {
    "execution": {
     "iopub.execute_input": "2021-02-13T11:40:23.583051Z",
     "iopub.status.busy": "2021-02-13T11:40:23.581889Z",
     "iopub.status.idle": "2021-02-13T11:40:23.606181Z",
     "shell.execute_reply": "2021-02-13T11:40:23.605540Z"
    },
    "papermill": {
     "duration": 0.10057,
     "end_time": "2021-02-13T11:40:23.606349",
     "exception": false,
     "start_time": "2021-02-13T11:40:23.505779",
     "status": "completed"
    },
    "tags": []
   },
   "outputs": [
    {
     "name": "stdout",
     "output_type": "stream",
     "text": [
      "Submission saved\n"
     ]
    }
   ],
   "source": [
    "# generate predictions\n",
    "# predictions = voting_clf.predict(X_test)  # ==> RESULTS ON TEST: 0.76076\n",
    "predictions = rf.predict(X_test)  # ==> RESULTS ON TEST: 0.78468\n",
    "#predictions = RFC_best.predict(X_test)  # ==> RESULTS ON TEST: 0.78229\n",
    "output = pd.DataFrame({PID: test[PID], LABEL: predictions})\n",
    "output.to_csv('my_submission.csv', index=False)\n",
    "print('Submission saved')"
   ]
  }
 ],
 "metadata": {
  "kernelspec": {
   "display_name": "Python 3",
   "language": "python",
   "name": "python3"
  },
  "language_info": {
   "codemirror_mode": {
    "name": "ipython",
    "version": 3
   },
   "file_extension": ".py",
   "mimetype": "text/x-python",
   "name": "python",
   "nbconvert_exporter": "python",
   "pygments_lexer": "ipython3",
   "version": "3.7.9"
  },
  "papermill": {
   "default_parameters": {},
   "duration": 81.938925,
   "end_time": "2021-02-13T11:40:24.589109",
   "environment_variables": {},
   "exception": null,
   "input_path": "__notebook__.ipynb",
   "output_path": "__notebook__.ipynb",
   "parameters": {},
   "start_time": "2021-02-13T11:39:02.650184",
   "version": "2.2.2"
  }
 },
 "nbformat": 4,
 "nbformat_minor": 4
}
